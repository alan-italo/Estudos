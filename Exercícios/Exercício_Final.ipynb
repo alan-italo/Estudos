{
 "cells": [
  {
   "cell_type": "markdown",
   "metadata": {},
   "source": [
    "<center><h1>Trabalho Final</h1></center>\n",
    "\n",
    "\n",
    "Ler as seguintes tabelas cadastro.csv; preço da gasolina.csv; salario_professioes.csv.\n",
    "Diante desses 3 arquivos, o trabalho deve responder as seguintes perguntas:\n",
    "\n",
    "<b>1 - Qual a idade média das pessoas no cadastro ?</b>\n",
    "\n",
    "<b>2 - Quantos homens tem no cadastro ?</b>\n",
    "\n",
    "<b>3 - Quantas mulheres tem no cadastro ?</b>\n",
    "\n",
    "<b>4 - Qual a idade média dos homens e das mulheres ?</b>\n",
    "\n",
    "<b>5 - Crie um gráfico de barras e mostre a distribuição de escolaridade no cadastro ?</b>\n",
    "\n",
    "<b>6 - Mostre a Média Salarial do cadastro ?</b>\n",
    "\n",
    "<b>7 - Quem tem o maior salário ?</b>\n",
    "\n",
    "<b>8 - Tirando desempregado quem recebe menos ?</b>\n",
    "\n",
    "<b>9 - Quantas pessoas gostam de caminhar no final de semana ?</b>\n",
    "\n",
    "<b>10 - Crie um gráfico mostrando entre a relação de escolaridade e quem pratica esporte ?</b>\n",
    "\n",
    "<b>11 - Crie um mapa de calor ?</b>\n",
    "\n",
    "<b>12 - Mostre de forma gráfica a distribuição de estados do cadastro ?</b>\n"
   ]
  },
  {
   "cell_type": "markdown",
   "metadata": {},
   "source": [
    "<b>* Passo 1</b>\n",
    "\n",
    "Importar as bibliotecas a serem usadas"
   ]
  },
  {
   "cell_type": "code",
   "execution_count": 1,
   "metadata": {},
   "outputs": [],
   "source": [
    "import pandas as pd\n",
    "import numpy as np\n",
    "import matplotlib.pyplot as plt"
   ]
  },
  {
   "cell_type": "markdown",
   "metadata": {},
   "source": [
    "<b> * Passo 2 </b>\n",
    "\n",
    "Lendo os arquivos do Exercício"
   ]
  },
  {
   "cell_type": "code",
   "execution_count": 2,
   "metadata": {},
   "outputs": [],
   "source": [
    "cadastro = pd.read_csv('cadastro.csv')\n",
    "preco_gasolina = pd.read_csv('preco_da_gasolina.csv')\n",
    "salario_prof = pd.read_csv('salario_profissoes.csv')"
   ]
  },
  {
   "cell_type": "markdown",
   "metadata": {},
   "source": [
    "<b> * Passo 3 </b>\n",
    "\n",
    "visualizar com o método <b>HEAD</b> as tabelas"
   ]
  },
  {
   "cell_type": "code",
   "execution_count": 3,
   "metadata": {},
   "outputs": [
    {
     "data": {
      "text/html": [
       "<div>\n",
       "<style scoped>\n",
       "    .dataframe tbody tr th:only-of-type {\n",
       "        vertical-align: middle;\n",
       "    }\n",
       "\n",
       "    .dataframe tbody tr th {\n",
       "        vertical-align: top;\n",
       "    }\n",
       "\n",
       "    .dataframe thead th {\n",
       "        text-align: right;\n",
       "    }\n",
       "</style>\n",
       "<table border=\"1\" class=\"dataframe\">\n",
       "  <thead>\n",
       "    <tr style=\"text-align: right;\">\n",
       "      <th></th>\n",
       "      <th>nome</th>\n",
       "      <th>sobrenome</th>\n",
       "      <th>ano_nascimento</th>\n",
       "      <th>sexo</th>\n",
       "      <th>cidade</th>\n",
       "      <th>profissão</th>\n",
       "      <th>experiencia profissional</th>\n",
       "      <th>estado_civil</th>\n",
       "      <th>filhos</th>\n",
       "      <th>lazer_final_de_semana</th>\n",
       "      <th>pratica_esporte</th>\n",
       "      <th>qual_esporte</th>\n",
       "      <th>quanta_vezes_na_semana_pratica_esporte</th>\n",
       "      <th>tem carro</th>\n",
       "      <th>escolaridade</th>\n",
       "    </tr>\n",
       "  </thead>\n",
       "  <tbody>\n",
       "    <tr>\n",
       "      <th>0</th>\n",
       "      <td>Dirceu</td>\n",
       "      <td>Manolo</td>\n",
       "      <td>1985</td>\n",
       "      <td>m</td>\n",
       "      <td>São Vicente</td>\n",
       "      <td>Cientista de Dados</td>\n",
       "      <td>4</td>\n",
       "      <td>Casado</td>\n",
       "      <td>1</td>\n",
       "      <td>estudar, academia, jogar video game,surfar</td>\n",
       "      <td>sim</td>\n",
       "      <td>academia</td>\n",
       "      <td>3.0</td>\n",
       "      <td>sim</td>\n",
       "      <td>Ensino Superior</td>\n",
       "    </tr>\n",
       "    <tr>\n",
       "      <th>1</th>\n",
       "      <td>Maria</td>\n",
       "      <td>Silva</td>\n",
       "      <td>1970</td>\n",
       "      <td>f</td>\n",
       "      <td>Santos</td>\n",
       "      <td>dona de casa</td>\n",
       "      <td>2</td>\n",
       "      <td>Casada</td>\n",
       "      <td>3</td>\n",
       "      <td>ver tv</td>\n",
       "      <td>não</td>\n",
       "      <td>-</td>\n",
       "      <td>0.0</td>\n",
       "      <td>não</td>\n",
       "      <td>Ensino Médio</td>\n",
       "    </tr>\n",
       "    <tr>\n",
       "      <th>2</th>\n",
       "      <td>Adalberto</td>\n",
       "      <td>Martins</td>\n",
       "      <td>1990</td>\n",
       "      <td>m</td>\n",
       "      <td>São Paulo</td>\n",
       "      <td>desempregado</td>\n",
       "      <td>0</td>\n",
       "      <td>Solteiro</td>\n",
       "      <td>1</td>\n",
       "      <td>jogar bola</td>\n",
       "      <td>sim</td>\n",
       "      <td>jogo bola</td>\n",
       "      <td>2.0</td>\n",
       "      <td>sim</td>\n",
       "      <td>Ensino Superior</td>\n",
       "    </tr>\n",
       "    <tr>\n",
       "      <th>3</th>\n",
       "      <td>João</td>\n",
       "      <td>Aparecido</td>\n",
       "      <td>1950</td>\n",
       "      <td>m</td>\n",
       "      <td>Monte Alto</td>\n",
       "      <td>Gerente de Projeto</td>\n",
       "      <td>3</td>\n",
       "      <td>Viuvo</td>\n",
       "      <td>2</td>\n",
       "      <td>Nã faço nada</td>\n",
       "      <td>NaN</td>\n",
       "      <td>-</td>\n",
       "      <td>NaN</td>\n",
       "      <td>sim</td>\n",
       "      <td>Ensino Superior</td>\n",
       "    </tr>\n",
       "    <tr>\n",
       "      <th>4</th>\n",
       "      <td>Marta</td>\n",
       "      <td>da Silva</td>\n",
       "      <td>1983</td>\n",
       "      <td>f</td>\n",
       "      <td>São Caetano</td>\n",
       "      <td>Auxiliar de Enfermagem</td>\n",
       "      <td>2</td>\n",
       "      <td>Solteira</td>\n",
       "      <td>0</td>\n",
       "      <td>caminhar</td>\n",
       "      <td>sim</td>\n",
       "      <td>crossfit</td>\n",
       "      <td>4.0</td>\n",
       "      <td>não</td>\n",
       "      <td>Ensimo Tecnico</td>\n",
       "    </tr>\n",
       "  </tbody>\n",
       "</table>\n",
       "</div>"
      ],
      "text/plain": [
       "        nome  sobrenome  ano_nascimento sexo       cidade  \\\n",
       "0     Dirceu     Manolo            1985    m  São Vicente   \n",
       "1      Maria      Silva            1970    f       Santos   \n",
       "2  Adalberto    Martins            1990    m    São Paulo   \n",
       "3       João  Aparecido            1950    m   Monte Alto   \n",
       "4      Marta   da Silva            1983    f  São Caetano   \n",
       "\n",
       "                profissão  experiencia profissional estado_civil  filhos  \\\n",
       "0      Cientista de Dados                         4       Casado       1   \n",
       "1            dona de casa                         2       Casada       3   \n",
       "2            desempregado                         0     Solteiro       1   \n",
       "3      Gerente de Projeto                         3        Viuvo       2   \n",
       "4  Auxiliar de Enfermagem                         2     Solteira       0   \n",
       "\n",
       "                        lazer_final_de_semana pratica_esporte qual_esporte  \\\n",
       "0  estudar, academia, jogar video game,surfar             sim     academia   \n",
       "1                                      ver tv             não            -   \n",
       "2                                  jogar bola             sim    jogo bola   \n",
       "3                                Nã faço nada             NaN            -   \n",
       "4                                    caminhar             sim     crossfit   \n",
       "\n",
       "   quanta_vezes_na_semana_pratica_esporte tem carro     escolaridade  \n",
       "0                                     3.0       sim  Ensino Superior  \n",
       "1                                     0.0       não     Ensino Médio  \n",
       "2                                     2.0       sim  Ensino Superior  \n",
       "3                                     NaN       sim  Ensino Superior  \n",
       "4                                     4.0       não   Ensimo Tecnico  "
      ]
     },
     "execution_count": 3,
     "metadata": {},
     "output_type": "execute_result"
    }
   ],
   "source": [
    "cadastro.head()"
   ]
  },
  {
   "cell_type": "code",
   "execution_count": 4,
   "metadata": {},
   "outputs": [
    {
     "data": {
      "text/html": [
       "<div>\n",
       "<style scoped>\n",
       "    .dataframe tbody tr th:only-of-type {\n",
       "        vertical-align: middle;\n",
       "    }\n",
       "\n",
       "    .dataframe tbody tr th {\n",
       "        vertical-align: top;\n",
       "    }\n",
       "\n",
       "    .dataframe thead th {\n",
       "        text-align: right;\n",
       "    }\n",
       "</style>\n",
       "<table border=\"1\" class=\"dataframe\">\n",
       "  <thead>\n",
       "    <tr style=\"text-align: right;\">\n",
       "      <th></th>\n",
       "      <th>cidade</th>\n",
       "      <th>preço</th>\n",
       "    </tr>\n",
       "  </thead>\n",
       "  <tbody>\n",
       "    <tr>\n",
       "      <th>0</th>\n",
       "      <td>São Vicente</td>\n",
       "      <td>3,45</td>\n",
       "    </tr>\n",
       "    <tr>\n",
       "      <th>1</th>\n",
       "      <td>Santos</td>\n",
       "      <td>3,33</td>\n",
       "    </tr>\n",
       "    <tr>\n",
       "      <th>2</th>\n",
       "      <td>São Paulo</td>\n",
       "      <td>3,23</td>\n",
       "    </tr>\n",
       "    <tr>\n",
       "      <th>3</th>\n",
       "      <td>Monte Alto</td>\n",
       "      <td>4</td>\n",
       "    </tr>\n",
       "    <tr>\n",
       "      <th>4</th>\n",
       "      <td>São Caetano</td>\n",
       "      <td>3,56</td>\n",
       "    </tr>\n",
       "  </tbody>\n",
       "</table>\n",
       "</div>"
      ],
      "text/plain": [
       "        cidade preço\n",
       "0  São Vicente  3,45\n",
       "1       Santos  3,33\n",
       "2    São Paulo  3,23\n",
       "3   Monte Alto     4\n",
       "4  São Caetano  3,56"
      ]
     },
     "execution_count": 4,
     "metadata": {},
     "output_type": "execute_result"
    }
   ],
   "source": [
    "preco_gasolina.head()"
   ]
  },
  {
   "cell_type": "code",
   "execution_count": 5,
   "metadata": {},
   "outputs": [
    {
     "data": {
      "text/html": [
       "<div>\n",
       "<style scoped>\n",
       "    .dataframe tbody tr th:only-of-type {\n",
       "        vertical-align: middle;\n",
       "    }\n",
       "\n",
       "    .dataframe tbody tr th {\n",
       "        vertical-align: top;\n",
       "    }\n",
       "\n",
       "    .dataframe thead th {\n",
       "        text-align: right;\n",
       "    }\n",
       "</style>\n",
       "<table border=\"1\" class=\"dataframe\">\n",
       "  <thead>\n",
       "    <tr style=\"text-align: right;\">\n",
       "      <th></th>\n",
       "      <th>Profissões</th>\n",
       "      <th>salario até 3 anos</th>\n",
       "      <th>salaior +3 anos</th>\n",
       "    </tr>\n",
       "  </thead>\n",
       "  <tbody>\n",
       "    <tr>\n",
       "      <th>0</th>\n",
       "      <td>Cientista de Dados</td>\n",
       "      <td>10000</td>\n",
       "      <td>14000</td>\n",
       "    </tr>\n",
       "    <tr>\n",
       "      <th>1</th>\n",
       "      <td>dona de casa</td>\n",
       "      <td>1200</td>\n",
       "      <td>1200</td>\n",
       "    </tr>\n",
       "    <tr>\n",
       "      <th>2</th>\n",
       "      <td>desempregado</td>\n",
       "      <td>0</td>\n",
       "      <td>0</td>\n",
       "    </tr>\n",
       "    <tr>\n",
       "      <th>3</th>\n",
       "      <td>Gerente de Projeto</td>\n",
       "      <td>5000</td>\n",
       "      <td>10000</td>\n",
       "    </tr>\n",
       "    <tr>\n",
       "      <th>4</th>\n",
       "      <td>Auxiliar de Enfermagem</td>\n",
       "      <td>1500</td>\n",
       "      <td>4000</td>\n",
       "    </tr>\n",
       "  </tbody>\n",
       "</table>\n",
       "</div>"
      ],
      "text/plain": [
       "               Profissões  salario até 3 anos  salaior +3 anos\n",
       "0      Cientista de Dados               10000            14000\n",
       "1            dona de casa                1200             1200\n",
       "2            desempregado                   0                0\n",
       "3      Gerente de Projeto                5000            10000\n",
       "4  Auxiliar de Enfermagem                1500             4000"
      ]
     },
     "execution_count": 5,
     "metadata": {},
     "output_type": "execute_result"
    }
   ],
   "source": [
    "salario_prof.head()"
   ]
  },
  {
   "cell_type": "markdown",
   "metadata": {},
   "source": [
    "<b>1 - Qual a idade média das pessoas no cadastro ?</b>\n",
    "\n",
    "Mas primeiro...\n",
    "\n",
    "Pela consulta através do head, sabemos que não existe uma coluna com a idade das pessoas, somente a data de nascimento, logo iremos criar uma nova coluna chamada <b>IDADE</b> com o seguinte cálculo:\n",
    "\n",
    "<b>ano atual - data_nasc</b>"
   ]
  },
  {
   "cell_type": "code",
   "execution_count": 6,
   "metadata": {},
   "outputs": [],
   "source": [
    "cadastro['idade']= cadastro['ano_nascimento'].sub(2020).mul(-1)"
   ]
  },
  {
   "cell_type": "markdown",
   "metadata": {},
   "source": [
    "<b>Agora sim!</b>\n",
    "\n",
    "Vamos calcular a média"
   ]
  },
  {
   "cell_type": "code",
   "execution_count": 7,
   "metadata": {},
   "outputs": [
    {
     "name": "stdout",
     "output_type": "stream",
     "text": [
      "Média de idade é: 32.73\n"
     ]
    }
   ],
   "source": [
    "media_idade_cadastro = cadastro['ano_nascimento'].sub(2020).mul(-1).mean()\n",
    "\n",
    "print('Média de idade é:',round(media_idade_cadastro,2))"
   ]
  },
  {
   "cell_type": "markdown",
   "metadata": {},
   "source": [
    "<b>2 - Quantos homens tem no cadastro ?</b>\n",
    "\n",
    "Vou criar uma variável <b>qntd_homens</b> com a soma através do método <b>sum</b> e printar o resultado"
   ]
  },
  {
   "cell_type": "code",
   "execution_count": 8,
   "metadata": {},
   "outputs": [],
   "source": [
    "qntd_homens = (cadastro['sexo']=='m').sum()"
   ]
  },
  {
   "cell_type": "code",
   "execution_count": 9,
   "metadata": {},
   "outputs": [
    {
     "name": "stdout",
     "output_type": "stream",
     "text": [
      "Quantidade de homens é igual: 16\n"
     ]
    }
   ],
   "source": [
    "print('Quantidade de homens é igual:',qntd_homens)"
   ]
  },
  {
   "cell_type": "markdown",
   "metadata": {},
   "source": [
    "<b>3 - Quantos mulheres tem no cadastro ?</b>\n",
    "\n",
    "Vou criar uma variável <b>qntd_mulheres</b> com a soma através do método <b>sum</b> e printar o resultado"
   ]
  },
  {
   "cell_type": "code",
   "execution_count": 10,
   "metadata": {},
   "outputs": [],
   "source": [
    "qntd_mulheres = (cadastro['sexo']=='f').sum()"
   ]
  },
  {
   "cell_type": "code",
   "execution_count": 11,
   "metadata": {},
   "outputs": [
    {
     "name": "stdout",
     "output_type": "stream",
     "text": [
      "Quantidade de mulheres é igual: 14\n"
     ]
    }
   ],
   "source": [
    "print('Quantidade de mulheres é igual:', qntd_mulheres)"
   ]
  },
  {
   "cell_type": "markdown",
   "metadata": {},
   "source": [
    "<b>4 - Qual a idade média dos homens e das mulheres ?</b>\n",
    "\n",
    "Para isso vou agrupar através do método <b>groupby</b> e já tirar a média com o método <b>mean</b>"
   ]
  },
  {
   "cell_type": "code",
   "execution_count": 12,
   "metadata": {},
   "outputs": [
    {
     "data": {
      "text/plain": [
       "sexo\n",
       "f    33.86\n",
       "m    31.75\n",
       "Name: idade, dtype: float64"
      ]
     },
     "execution_count": 12,
     "metadata": {},
     "output_type": "execute_result"
    }
   ],
   "source": [
    "round(cadastro.groupby('sexo')['idade'].mean(),2)"
   ]
  },
  {
   "cell_type": "markdown",
   "metadata": {},
   "source": [
    "<b>5 - Crie um gráfico de barras e mostre a distribuição de escolaridade no cadastro ?</b>\n",
    "\n",
    "Preciso verificar os dados constantes na coluna escolaridade"
   ]
  },
  {
   "cell_type": "code",
   "execution_count": 13,
   "metadata": {},
   "outputs": [
    {
     "data": {
      "text/plain": [
       "0     Ensino Superior\n",
       "1        Ensino Médio\n",
       "2     Ensino Superior\n",
       "3     Ensino Superior\n",
       "4      Ensimo Tecnico\n",
       "5        Ensino Médio\n",
       "6        Ensino Médio\n",
       "7     Ensino Superior\n",
       "8     Ensino Superior\n",
       "9     Ensino Superior\n",
       "10    Ensino Superior\n",
       "11    Ensino Superior\n",
       "12    Ensino Superior\n",
       "13       Ensino Médio\n",
       "14    Ensino Superior\n",
       "15    Ensino Superior\n",
       "16    Ensino Superior\n",
       "17       ensino médio\n",
       "18       ensino médio\n",
       "19    ensino superior\n",
       "20       ensino Médio\n",
       "21    ensino superior\n",
       "22    ensino superior\n",
       "23       ensino médio\n",
       "24    ensino superior\n",
       "25    ensino superior\n",
       "26    ensino superior\n",
       "27    ensino superior\n",
       "28    ensino superior\n",
       "29    ensino superior\n",
       "Name: escolaridade, dtype: object"
      ]
     },
     "execution_count": 13,
     "metadata": {},
     "output_type": "execute_result"
    }
   ],
   "source": [
    "cadastro['escolaridade']"
   ]
  },
  {
   "cell_type": "markdown",
   "metadata": {},
   "source": [
    "<b>Observação</b>\n",
    "\n",
    "Vou ter que padronizar o texto para cada informação de escolaridade, antes de poder responder a pergunta.Pois dados estão escritos de formas diferentes.\n",
    "\n",
    "Para isso vou usar o método <b>replace</b> redefinindo os textos corretamente."
   ]
  },
  {
   "cell_type": "code",
   "execution_count": 14,
   "metadata": {},
   "outputs": [],
   "source": [
    "cadastro['escolaridade'].replace(\n",
    "    to_replace=['ensino superior','ensino médio','ensino Médio','Ensimo tecnico'],\n",
    "    value=['Ensino Superior','Ensino Médio','Ensino Médio','Ensino Técnico'],\n",
    "    inplace=True\n",
    ")"
   ]
  },
  {
   "cell_type": "markdown",
   "metadata": {},
   "source": [
    "<b>Agora sim!</b>\n",
    "\n",
    "Vou criar um novo df chamado <b>gf_escolaridade</b> para poder criar o gráfico."
   ]
  },
  {
   "cell_type": "code",
   "execution_count": 15,
   "metadata": {},
   "outputs": [],
   "source": [
    "gf_escolaridade = cadastro.groupby('escolaridade')['nome'].count().reset_index(name='qtd_pessoas')"
   ]
  },
  {
   "cell_type": "code",
   "execution_count": 16,
   "metadata": {},
   "outputs": [
    {
     "data": {
      "text/html": [
       "<div>\n",
       "<style scoped>\n",
       "    .dataframe tbody tr th:only-of-type {\n",
       "        vertical-align: middle;\n",
       "    }\n",
       "\n",
       "    .dataframe tbody tr th {\n",
       "        vertical-align: top;\n",
       "    }\n",
       "\n",
       "    .dataframe thead th {\n",
       "        text-align: right;\n",
       "    }\n",
       "</style>\n",
       "<table border=\"1\" class=\"dataframe\">\n",
       "  <thead>\n",
       "    <tr style=\"text-align: right;\">\n",
       "      <th></th>\n",
       "      <th>escolaridade</th>\n",
       "      <th>qtd_pessoas</th>\n",
       "    </tr>\n",
       "  </thead>\n",
       "  <tbody>\n",
       "    <tr>\n",
       "      <th>0</th>\n",
       "      <td>Ensimo Tecnico</td>\n",
       "      <td>1</td>\n",
       "    </tr>\n",
       "    <tr>\n",
       "      <th>1</th>\n",
       "      <td>Ensino Médio</td>\n",
       "      <td>8</td>\n",
       "    </tr>\n",
       "    <tr>\n",
       "      <th>2</th>\n",
       "      <td>Ensino Superior</td>\n",
       "      <td>21</td>\n",
       "    </tr>\n",
       "  </tbody>\n",
       "</table>\n",
       "</div>"
      ],
      "text/plain": [
       "      escolaridade  qtd_pessoas\n",
       "0   Ensimo Tecnico            1\n",
       "1     Ensino Médio            8\n",
       "2  Ensino Superior           21"
      ]
     },
     "execution_count": 16,
     "metadata": {},
     "output_type": "execute_result"
    }
   ],
   "source": [
    "gf_escolaridade"
   ]
  },
  {
   "cell_type": "markdown",
   "metadata": {},
   "source": [
    "<b>Ai está!</b>\n",
    "\n",
    "Gráfico simples de barras com a distribuição por escolaridade."
   ]
  },
  {
   "cell_type": "code",
   "execution_count": 17,
   "metadata": {},
   "outputs": [
    {
     "data": {
      "text/plain": [
       "<matplotlib.axes._subplots.AxesSubplot at 0x1193d0550>"
      ]
     },
     "execution_count": 17,
     "metadata": {},
     "output_type": "execute_result"
    },
    {
     "data": {
      "image/png": "[encoded data removed]",
      "text/plain": [
       "<Figure size 432x288 with 1 Axes>"
      ]
     },
     "metadata": {
      "needs_background": "light"
     },
     "output_type": "display_data"
    }
   ],
   "source": [
    "gf_escolaridade.plot.bar(x='escolaridade',y='qtd_pessoas')"
   ]
  },
  {
   "cell_type": "markdown",
   "metadata": {},
   "source": [
    "<b>6 - Mostre a Média Salarial do cadastro ?</b>\n",
    "\n",
    "Para isso precisamos trazer os valores dos salários que está no df <b>'salario_prof'</b>. Vou consultar para saber qual coluna temos em comum para conseguir utilizar o método <b>merge</b> e unir corretamente."
   ]
  },
  {
   "cell_type": "code",
   "execution_count": 18,
   "metadata": {},
   "outputs": [
    {
     "data": {
      "text/html": [
       "<div>\n",
       "<style scoped>\n",
       "    .dataframe tbody tr th:only-of-type {\n",
       "        vertical-align: middle;\n",
       "    }\n",
       "\n",
       "    .dataframe tbody tr th {\n",
       "        vertical-align: top;\n",
       "    }\n",
       "\n",
       "    .dataframe thead th {\n",
       "        text-align: right;\n",
       "    }\n",
       "</style>\n",
       "<table border=\"1\" class=\"dataframe\">\n",
       "  <thead>\n",
       "    <tr style=\"text-align: right;\">\n",
       "      <th></th>\n",
       "      <th>nome</th>\n",
       "      <th>sobrenome</th>\n",
       "      <th>ano_nascimento</th>\n",
       "      <th>sexo</th>\n",
       "      <th>cidade</th>\n",
       "      <th>profissão</th>\n",
       "      <th>experiencia profissional</th>\n",
       "      <th>estado_civil</th>\n",
       "      <th>filhos</th>\n",
       "      <th>lazer_final_de_semana</th>\n",
       "      <th>pratica_esporte</th>\n",
       "      <th>qual_esporte</th>\n",
       "      <th>quanta_vezes_na_semana_pratica_esporte</th>\n",
       "      <th>tem carro</th>\n",
       "      <th>escolaridade</th>\n",
       "      <th>idade</th>\n",
       "    </tr>\n",
       "  </thead>\n",
       "  <tbody>\n",
       "    <tr>\n",
       "      <th>0</th>\n",
       "      <td>Dirceu</td>\n",
       "      <td>Manolo</td>\n",
       "      <td>1985</td>\n",
       "      <td>m</td>\n",
       "      <td>São Vicente</td>\n",
       "      <td>Cientista de Dados</td>\n",
       "      <td>4</td>\n",
       "      <td>Casado</td>\n",
       "      <td>1</td>\n",
       "      <td>estudar, academia, jogar video game,surfar</td>\n",
       "      <td>sim</td>\n",
       "      <td>academia</td>\n",
       "      <td>3.0</td>\n",
       "      <td>sim</td>\n",
       "      <td>Ensino Superior</td>\n",
       "      <td>35</td>\n",
       "    </tr>\n",
       "    <tr>\n",
       "      <th>1</th>\n",
       "      <td>Maria</td>\n",
       "      <td>Silva</td>\n",
       "      <td>1970</td>\n",
       "      <td>f</td>\n",
       "      <td>Santos</td>\n",
       "      <td>dona de casa</td>\n",
       "      <td>2</td>\n",
       "      <td>Casada</td>\n",
       "      <td>3</td>\n",
       "      <td>ver tv</td>\n",
       "      <td>não</td>\n",
       "      <td>-</td>\n",
       "      <td>0.0</td>\n",
       "      <td>não</td>\n",
       "      <td>Ensino Médio</td>\n",
       "      <td>50</td>\n",
       "    </tr>\n",
       "    <tr>\n",
       "      <th>2</th>\n",
       "      <td>Adalberto</td>\n",
       "      <td>Martins</td>\n",
       "      <td>1990</td>\n",
       "      <td>m</td>\n",
       "      <td>São Paulo</td>\n",
       "      <td>desempregado</td>\n",
       "      <td>0</td>\n",
       "      <td>Solteiro</td>\n",
       "      <td>1</td>\n",
       "      <td>jogar bola</td>\n",
       "      <td>sim</td>\n",
       "      <td>jogo bola</td>\n",
       "      <td>2.0</td>\n",
       "      <td>sim</td>\n",
       "      <td>Ensino Superior</td>\n",
       "      <td>30</td>\n",
       "    </tr>\n",
       "    <tr>\n",
       "      <th>3</th>\n",
       "      <td>João</td>\n",
       "      <td>Aparecido</td>\n",
       "      <td>1950</td>\n",
       "      <td>m</td>\n",
       "      <td>Monte Alto</td>\n",
       "      <td>Gerente de Projeto</td>\n",
       "      <td>3</td>\n",
       "      <td>Viuvo</td>\n",
       "      <td>2</td>\n",
       "      <td>Nã faço nada</td>\n",
       "      <td>NaN</td>\n",
       "      <td>-</td>\n",
       "      <td>NaN</td>\n",
       "      <td>sim</td>\n",
       "      <td>Ensino Superior</td>\n",
       "      <td>70</td>\n",
       "    </tr>\n",
       "    <tr>\n",
       "      <th>4</th>\n",
       "      <td>Marta</td>\n",
       "      <td>da Silva</td>\n",
       "      <td>1983</td>\n",
       "      <td>f</td>\n",
       "      <td>São Caetano</td>\n",
       "      <td>Auxiliar de Enfermagem</td>\n",
       "      <td>2</td>\n",
       "      <td>Solteira</td>\n",
       "      <td>0</td>\n",
       "      <td>caminhar</td>\n",
       "      <td>sim</td>\n",
       "      <td>crossfit</td>\n",
       "      <td>4.0</td>\n",
       "      <td>não</td>\n",
       "      <td>Ensimo Tecnico</td>\n",
       "      <td>37</td>\n",
       "    </tr>\n",
       "  </tbody>\n",
       "</table>\n",
       "</div>"
      ],
      "text/plain": [
       "        nome  sobrenome  ano_nascimento sexo       cidade  \\\n",
       "0     Dirceu     Manolo            1985    m  São Vicente   \n",
       "1      Maria      Silva            1970    f       Santos   \n",
       "2  Adalberto    Martins            1990    m    São Paulo   \n",
       "3       João  Aparecido            1950    m   Monte Alto   \n",
       "4      Marta   da Silva            1983    f  São Caetano   \n",
       "\n",
       "                profissão  experiencia profissional estado_civil  filhos  \\\n",
       "0      Cientista de Dados                         4       Casado       1   \n",
       "1            dona de casa                         2       Casada       3   \n",
       "2            desempregado                         0     Solteiro       1   \n",
       "3      Gerente de Projeto                         3        Viuvo       2   \n",
       "4  Auxiliar de Enfermagem                         2     Solteira       0   \n",
       "\n",
       "                        lazer_final_de_semana pratica_esporte qual_esporte  \\\n",
       "0  estudar, academia, jogar video game,surfar             sim     academia   \n",
       "1                                      ver tv             não            -   \n",
       "2                                  jogar bola             sim    jogo bola   \n",
       "3                                Nã faço nada             NaN            -   \n",
       "4                                    caminhar             sim     crossfit   \n",
       "\n",
       "   quanta_vezes_na_semana_pratica_esporte tem carro     escolaridade  idade  \n",
       "0                                     3.0       sim  Ensino Superior     35  \n",
       "1                                     0.0       não     Ensino Médio     50  \n",
       "2                                     2.0       sim  Ensino Superior     30  \n",
       "3                                     NaN       sim  Ensino Superior     70  \n",
       "4                                     4.0       não   Ensimo Tecnico     37  "
      ]
     },
     "execution_count": 18,
     "metadata": {},
     "output_type": "execute_result"
    }
   ],
   "source": [
    "cadastro.head()"
   ]
  },
  {
   "cell_type": "code",
   "execution_count": 19,
   "metadata": {},
   "outputs": [
    {
     "data": {
      "text/html": [
       "<div>\n",
       "<style scoped>\n",
       "    .dataframe tbody tr th:only-of-type {\n",
       "        vertical-align: middle;\n",
       "    }\n",
       "\n",
       "    .dataframe tbody tr th {\n",
       "        vertical-align: top;\n",
       "    }\n",
       "\n",
       "    .dataframe thead th {\n",
       "        text-align: right;\n",
       "    }\n",
       "</style>\n",
       "<table border=\"1\" class=\"dataframe\">\n",
       "  <thead>\n",
       "    <tr style=\"text-align: right;\">\n",
       "      <th></th>\n",
       "      <th>Profissões</th>\n",
       "      <th>salario até 3 anos</th>\n",
       "      <th>salaior +3 anos</th>\n",
       "    </tr>\n",
       "  </thead>\n",
       "  <tbody>\n",
       "    <tr>\n",
       "      <th>0</th>\n",
       "      <td>Cientista de Dados</td>\n",
       "      <td>10000</td>\n",
       "      <td>14000</td>\n",
       "    </tr>\n",
       "    <tr>\n",
       "      <th>1</th>\n",
       "      <td>dona de casa</td>\n",
       "      <td>1200</td>\n",
       "      <td>1200</td>\n",
       "    </tr>\n",
       "    <tr>\n",
       "      <th>2</th>\n",
       "      <td>desempregado</td>\n",
       "      <td>0</td>\n",
       "      <td>0</td>\n",
       "    </tr>\n",
       "    <tr>\n",
       "      <th>3</th>\n",
       "      <td>Gerente de Projeto</td>\n",
       "      <td>5000</td>\n",
       "      <td>10000</td>\n",
       "    </tr>\n",
       "    <tr>\n",
       "      <th>4</th>\n",
       "      <td>Auxiliar de Enfermagem</td>\n",
       "      <td>1500</td>\n",
       "      <td>4000</td>\n",
       "    </tr>\n",
       "  </tbody>\n",
       "</table>\n",
       "</div>"
      ],
      "text/plain": [
       "               Profissões  salario até 3 anos  salaior +3 anos\n",
       "0      Cientista de Dados               10000            14000\n",
       "1            dona de casa                1200             1200\n",
       "2            desempregado                   0                0\n",
       "3      Gerente de Projeto                5000            10000\n",
       "4  Auxiliar de Enfermagem                1500             4000"
      ]
     },
     "execution_count": 19,
     "metadata": {},
     "output_type": "execute_result"
    }
   ],
   "source": [
    "salario_prof.head()"
   ]
  },
  {
   "cell_type": "markdown",
   "metadata": {},
   "source": [
    "<b>Problema!</b>\n",
    "\n",
    "A coluna profissão no df <b>'salario_prof'</b> está escrito diferente do df <b>'cadastro'</b>. Vou renomear essa coluna utilizando o método <b>rename</b>."
   ]
  },
  {
   "cell_type": "code",
   "execution_count": 20,
   "metadata": {},
   "outputs": [],
   "source": [
    "salario_prof = salario_prof.rename(columns={'Profissões':'profissão'})"
   ]
  },
  {
   "cell_type": "code",
   "execution_count": 21,
   "metadata": {},
   "outputs": [
    {
     "data": {
      "text/html": [
       "<div>\n",
       "<style scoped>\n",
       "    .dataframe tbody tr th:only-of-type {\n",
       "        vertical-align: middle;\n",
       "    }\n",
       "\n",
       "    .dataframe tbody tr th {\n",
       "        vertical-align: top;\n",
       "    }\n",
       "\n",
       "    .dataframe thead th {\n",
       "        text-align: right;\n",
       "    }\n",
       "</style>\n",
       "<table border=\"1\" class=\"dataframe\">\n",
       "  <thead>\n",
       "    <tr style=\"text-align: right;\">\n",
       "      <th></th>\n",
       "      <th>profissão</th>\n",
       "      <th>salario até 3 anos</th>\n",
       "      <th>salaior +3 anos</th>\n",
       "    </tr>\n",
       "  </thead>\n",
       "  <tbody>\n",
       "    <tr>\n",
       "      <th>0</th>\n",
       "      <td>Cientista de Dados</td>\n",
       "      <td>10000</td>\n",
       "      <td>14000</td>\n",
       "    </tr>\n",
       "    <tr>\n",
       "      <th>1</th>\n",
       "      <td>dona de casa</td>\n",
       "      <td>1200</td>\n",
       "      <td>1200</td>\n",
       "    </tr>\n",
       "    <tr>\n",
       "      <th>2</th>\n",
       "      <td>desempregado</td>\n",
       "      <td>0</td>\n",
       "      <td>0</td>\n",
       "    </tr>\n",
       "    <tr>\n",
       "      <th>3</th>\n",
       "      <td>Gerente de Projeto</td>\n",
       "      <td>5000</td>\n",
       "      <td>10000</td>\n",
       "    </tr>\n",
       "    <tr>\n",
       "      <th>4</th>\n",
       "      <td>Auxiliar de Enfermagem</td>\n",
       "      <td>1500</td>\n",
       "      <td>4000</td>\n",
       "    </tr>\n",
       "  </tbody>\n",
       "</table>\n",
       "</div>"
      ],
      "text/plain": [
       "                profissão  salario até 3 anos  salaior +3 anos\n",
       "0      Cientista de Dados               10000            14000\n",
       "1            dona de casa                1200             1200\n",
       "2            desempregado                   0                0\n",
       "3      Gerente de Projeto                5000            10000\n",
       "4  Auxiliar de Enfermagem                1500             4000"
      ]
     },
     "execution_count": 21,
     "metadata": {},
     "output_type": "execute_result"
    }
   ],
   "source": [
    "salario_prof.head()"
   ]
  },
  {
   "cell_type": "markdown",
   "metadata": {},
   "source": [
    "<b>Agora vai!</b>\n",
    "\n",
    "Vou criar um novo df chamado <b>'cadastro_prof'</b> e utilizar o método <b>merge</b> para unir corretamente."
   ]
  },
  {
   "cell_type": "code",
   "execution_count": 22,
   "metadata": {},
   "outputs": [],
   "source": [
    "cadastro_prof = pd.merge(cadastro,salario_prof,on=['profissão'],how='inner')"
   ]
  },
  {
   "cell_type": "code",
   "execution_count": 23,
   "metadata": {},
   "outputs": [
    {
     "data": {
      "text/html": [
       "<div>\n",
       "<style scoped>\n",
       "    .dataframe tbody tr th:only-of-type {\n",
       "        vertical-align: middle;\n",
       "    }\n",
       "\n",
       "    .dataframe tbody tr th {\n",
       "        vertical-align: top;\n",
       "    }\n",
       "\n",
       "    .dataframe thead th {\n",
       "        text-align: right;\n",
       "    }\n",
       "</style>\n",
       "<table border=\"1\" class=\"dataframe\">\n",
       "  <thead>\n",
       "    <tr style=\"text-align: right;\">\n",
       "      <th></th>\n",
       "      <th>nome</th>\n",
       "      <th>sobrenome</th>\n",
       "      <th>ano_nascimento</th>\n",
       "      <th>sexo</th>\n",
       "      <th>cidade</th>\n",
       "      <th>profissão</th>\n",
       "      <th>experiencia profissional</th>\n",
       "      <th>estado_civil</th>\n",
       "      <th>filhos</th>\n",
       "      <th>lazer_final_de_semana</th>\n",
       "      <th>pratica_esporte</th>\n",
       "      <th>qual_esporte</th>\n",
       "      <th>quanta_vezes_na_semana_pratica_esporte</th>\n",
       "      <th>tem carro</th>\n",
       "      <th>escolaridade</th>\n",
       "      <th>idade</th>\n",
       "      <th>salario até 3 anos</th>\n",
       "      <th>salaior +3 anos</th>\n",
       "    </tr>\n",
       "  </thead>\n",
       "  <tbody>\n",
       "    <tr>\n",
       "      <th>0</th>\n",
       "      <td>Dirceu</td>\n",
       "      <td>Manolo</td>\n",
       "      <td>1985</td>\n",
       "      <td>m</td>\n",
       "      <td>São Vicente</td>\n",
       "      <td>Cientista de Dados</td>\n",
       "      <td>4</td>\n",
       "      <td>Casado</td>\n",
       "      <td>1</td>\n",
       "      <td>estudar, academia, jogar video game,surfar</td>\n",
       "      <td>sim</td>\n",
       "      <td>academia</td>\n",
       "      <td>3.0</td>\n",
       "      <td>sim</td>\n",
       "      <td>Ensino Superior</td>\n",
       "      <td>35</td>\n",
       "      <td>10000</td>\n",
       "      <td>14000</td>\n",
       "    </tr>\n",
       "    <tr>\n",
       "      <th>1</th>\n",
       "      <td>Maria</td>\n",
       "      <td>Silva</td>\n",
       "      <td>1970</td>\n",
       "      <td>f</td>\n",
       "      <td>Santos</td>\n",
       "      <td>dona de casa</td>\n",
       "      <td>2</td>\n",
       "      <td>Casada</td>\n",
       "      <td>3</td>\n",
       "      <td>ver tv</td>\n",
       "      <td>não</td>\n",
       "      <td>-</td>\n",
       "      <td>0.0</td>\n",
       "      <td>não</td>\n",
       "      <td>Ensino Médio</td>\n",
       "      <td>50</td>\n",
       "      <td>1200</td>\n",
       "      <td>1200</td>\n",
       "    </tr>\n",
       "    <tr>\n",
       "      <th>2</th>\n",
       "      <td>Adalberto</td>\n",
       "      <td>Martins</td>\n",
       "      <td>1990</td>\n",
       "      <td>m</td>\n",
       "      <td>São Paulo</td>\n",
       "      <td>desempregado</td>\n",
       "      <td>0</td>\n",
       "      <td>Solteiro</td>\n",
       "      <td>1</td>\n",
       "      <td>jogar bola</td>\n",
       "      <td>sim</td>\n",
       "      <td>jogo bola</td>\n",
       "      <td>2.0</td>\n",
       "      <td>sim</td>\n",
       "      <td>Ensino Superior</td>\n",
       "      <td>30</td>\n",
       "      <td>0</td>\n",
       "      <td>0</td>\n",
       "    </tr>\n",
       "    <tr>\n",
       "      <th>3</th>\n",
       "      <td>Lucas</td>\n",
       "      <td>Silva e Silva</td>\n",
       "      <td>1995</td>\n",
       "      <td>m</td>\n",
       "      <td>Goias</td>\n",
       "      <td>desempregado</td>\n",
       "      <td>1</td>\n",
       "      <td>Solteiro</td>\n",
       "      <td>0</td>\n",
       "      <td>estudo</td>\n",
       "      <td>sim</td>\n",
       "      <td>correr na rua</td>\n",
       "      <td>4.0</td>\n",
       "      <td>não</td>\n",
       "      <td>Ensino Superior</td>\n",
       "      <td>25</td>\n",
       "      <td>0</td>\n",
       "      <td>0</td>\n",
       "    </tr>\n",
       "    <tr>\n",
       "      <th>4</th>\n",
       "      <td>João</td>\n",
       "      <td>Aparecido</td>\n",
       "      <td>1950</td>\n",
       "      <td>m</td>\n",
       "      <td>Monte Alto</td>\n",
       "      <td>Gerente de Projeto</td>\n",
       "      <td>3</td>\n",
       "      <td>Viuvo</td>\n",
       "      <td>2</td>\n",
       "      <td>Nã faço nada</td>\n",
       "      <td>NaN</td>\n",
       "      <td>-</td>\n",
       "      <td>NaN</td>\n",
       "      <td>sim</td>\n",
       "      <td>Ensino Superior</td>\n",
       "      <td>70</td>\n",
       "      <td>5000</td>\n",
       "      <td>10000</td>\n",
       "    </tr>\n",
       "  </tbody>\n",
       "</table>\n",
       "</div>"
      ],
      "text/plain": [
       "        nome      sobrenome  ano_nascimento sexo       cidade  \\\n",
       "0     Dirceu         Manolo            1985    m  São Vicente   \n",
       "1      Maria          Silva            1970    f       Santos   \n",
       "2  Adalberto        Martins            1990    m    São Paulo   \n",
       "3      Lucas  Silva e Silva            1995    m        Goias   \n",
       "4       João      Aparecido            1950    m   Monte Alto   \n",
       "\n",
       "            profissão  experiencia profissional estado_civil  filhos  \\\n",
       "0  Cientista de Dados                         4       Casado       1   \n",
       "1        dona de casa                         2       Casada       3   \n",
       "2        desempregado                         0     Solteiro       1   \n",
       "3        desempregado                         1     Solteiro       0   \n",
       "4  Gerente de Projeto                         3        Viuvo       2   \n",
       "\n",
       "                        lazer_final_de_semana pratica_esporte   qual_esporte  \\\n",
       "0  estudar, academia, jogar video game,surfar             sim       academia   \n",
       "1                                      ver tv             não              -   \n",
       "2                                  jogar bola             sim      jogo bola   \n",
       "3                                      estudo             sim  correr na rua   \n",
       "4                                Nã faço nada             NaN              -   \n",
       "\n",
       "   quanta_vezes_na_semana_pratica_esporte tem carro     escolaridade  idade  \\\n",
       "0                                     3.0       sim  Ensino Superior     35   \n",
       "1                                     0.0       não     Ensino Médio     50   \n",
       "2                                     2.0       sim  Ensino Superior     30   \n",
       "3                                     4.0       não  Ensino Superior     25   \n",
       "4                                     NaN       sim  Ensino Superior     70   \n",
       "\n",
       "   salario até 3 anos  salaior +3 anos  \n",
       "0               10000            14000  \n",
       "1                1200             1200  \n",
       "2                   0                0  \n",
       "3                   0                0  \n",
       "4                5000            10000  "
      ]
     },
     "execution_count": 23,
     "metadata": {},
     "output_type": "execute_result"
    }
   ],
   "source": [
    "cadastro_prof.head()"
   ]
  },
  {
   "cell_type": "markdown",
   "metadata": {},
   "source": [
    "<b>Ok</b>\n",
    "\n",
    "Vou criar uma nova coluna <b>'soma_salario'</b> com a soma dos salários das colunas <b>'salario até 3 anos'</b> e <b>'salaior +3 anos'</b>.Após isso vou tirar a média salarial novamente com o método <b>mean</b>"
   ]
  },
  {
   "cell_type": "code",
   "execution_count": 24,
   "metadata": {},
   "outputs": [],
   "source": [
    "cadastro_prof['soma_salario'] = cadastro_prof['salario até 3 anos']+cadastro_prof['salaior +3 anos']"
   ]
  },
  {
   "cell_type": "code",
   "execution_count": 25,
   "metadata": {},
   "outputs": [
    {
     "data": {
      "text/html": [
       "<div>\n",
       "<style scoped>\n",
       "    .dataframe tbody tr th:only-of-type {\n",
       "        vertical-align: middle;\n",
       "    }\n",
       "\n",
       "    .dataframe tbody tr th {\n",
       "        vertical-align: top;\n",
       "    }\n",
       "\n",
       "    .dataframe thead th {\n",
       "        text-align: right;\n",
       "    }\n",
       "</style>\n",
       "<table border=\"1\" class=\"dataframe\">\n",
       "  <thead>\n",
       "    <tr style=\"text-align: right;\">\n",
       "      <th></th>\n",
       "      <th>nome</th>\n",
       "      <th>sobrenome</th>\n",
       "      <th>ano_nascimento</th>\n",
       "      <th>sexo</th>\n",
       "      <th>cidade</th>\n",
       "      <th>profissão</th>\n",
       "      <th>experiencia profissional</th>\n",
       "      <th>estado_civil</th>\n",
       "      <th>filhos</th>\n",
       "      <th>lazer_final_de_semana</th>\n",
       "      <th>pratica_esporte</th>\n",
       "      <th>qual_esporte</th>\n",
       "      <th>quanta_vezes_na_semana_pratica_esporte</th>\n",
       "      <th>tem carro</th>\n",
       "      <th>escolaridade</th>\n",
       "      <th>idade</th>\n",
       "      <th>salario até 3 anos</th>\n",
       "      <th>salaior +3 anos</th>\n",
       "      <th>soma_salario</th>\n",
       "    </tr>\n",
       "  </thead>\n",
       "  <tbody>\n",
       "    <tr>\n",
       "      <th>0</th>\n",
       "      <td>Dirceu</td>\n",
       "      <td>Manolo</td>\n",
       "      <td>1985</td>\n",
       "      <td>m</td>\n",
       "      <td>São Vicente</td>\n",
       "      <td>Cientista de Dados</td>\n",
       "      <td>4</td>\n",
       "      <td>Casado</td>\n",
       "      <td>1</td>\n",
       "      <td>estudar, academia, jogar video game,surfar</td>\n",
       "      <td>sim</td>\n",
       "      <td>academia</td>\n",
       "      <td>3.0</td>\n",
       "      <td>sim</td>\n",
       "      <td>Ensino Superior</td>\n",
       "      <td>35</td>\n",
       "      <td>10000</td>\n",
       "      <td>14000</td>\n",
       "      <td>24000</td>\n",
       "    </tr>\n",
       "    <tr>\n",
       "      <th>1</th>\n",
       "      <td>Maria</td>\n",
       "      <td>Silva</td>\n",
       "      <td>1970</td>\n",
       "      <td>f</td>\n",
       "      <td>Santos</td>\n",
       "      <td>dona de casa</td>\n",
       "      <td>2</td>\n",
       "      <td>Casada</td>\n",
       "      <td>3</td>\n",
       "      <td>ver tv</td>\n",
       "      <td>não</td>\n",
       "      <td>-</td>\n",
       "      <td>0.0</td>\n",
       "      <td>não</td>\n",
       "      <td>Ensino Médio</td>\n",
       "      <td>50</td>\n",
       "      <td>1200</td>\n",
       "      <td>1200</td>\n",
       "      <td>2400</td>\n",
       "    </tr>\n",
       "    <tr>\n",
       "      <th>2</th>\n",
       "      <td>Adalberto</td>\n",
       "      <td>Martins</td>\n",
       "      <td>1990</td>\n",
       "      <td>m</td>\n",
       "      <td>São Paulo</td>\n",
       "      <td>desempregado</td>\n",
       "      <td>0</td>\n",
       "      <td>Solteiro</td>\n",
       "      <td>1</td>\n",
       "      <td>jogar bola</td>\n",
       "      <td>sim</td>\n",
       "      <td>jogo bola</td>\n",
       "      <td>2.0</td>\n",
       "      <td>sim</td>\n",
       "      <td>Ensino Superior</td>\n",
       "      <td>30</td>\n",
       "      <td>0</td>\n",
       "      <td>0</td>\n",
       "      <td>0</td>\n",
       "    </tr>\n",
       "    <tr>\n",
       "      <th>3</th>\n",
       "      <td>Lucas</td>\n",
       "      <td>Silva e Silva</td>\n",
       "      <td>1995</td>\n",
       "      <td>m</td>\n",
       "      <td>Goias</td>\n",
       "      <td>desempregado</td>\n",
       "      <td>1</td>\n",
       "      <td>Solteiro</td>\n",
       "      <td>0</td>\n",
       "      <td>estudo</td>\n",
       "      <td>sim</td>\n",
       "      <td>correr na rua</td>\n",
       "      <td>4.0</td>\n",
       "      <td>não</td>\n",
       "      <td>Ensino Superior</td>\n",
       "      <td>25</td>\n",
       "      <td>0</td>\n",
       "      <td>0</td>\n",
       "      <td>0</td>\n",
       "    </tr>\n",
       "    <tr>\n",
       "      <th>4</th>\n",
       "      <td>João</td>\n",
       "      <td>Aparecido</td>\n",
       "      <td>1950</td>\n",
       "      <td>m</td>\n",
       "      <td>Monte Alto</td>\n",
       "      <td>Gerente de Projeto</td>\n",
       "      <td>3</td>\n",
       "      <td>Viuvo</td>\n",
       "      <td>2</td>\n",
       "      <td>Nã faço nada</td>\n",
       "      <td>NaN</td>\n",
       "      <td>-</td>\n",
       "      <td>NaN</td>\n",
       "      <td>sim</td>\n",
       "      <td>Ensino Superior</td>\n",
       "      <td>70</td>\n",
       "      <td>5000</td>\n",
       "      <td>10000</td>\n",
       "      <td>15000</td>\n",
       "    </tr>\n",
       "  </tbody>\n",
       "</table>\n",
       "</div>"
      ],
      "text/plain": [
       "        nome      sobrenome  ano_nascimento sexo       cidade  \\\n",
       "0     Dirceu         Manolo            1985    m  São Vicente   \n",
       "1      Maria          Silva            1970    f       Santos   \n",
       "2  Adalberto        Martins            1990    m    São Paulo   \n",
       "3      Lucas  Silva e Silva            1995    m        Goias   \n",
       "4       João      Aparecido            1950    m   Monte Alto   \n",
       "\n",
       "            profissão  experiencia profissional estado_civil  filhos  \\\n",
       "0  Cientista de Dados                         4       Casado       1   \n",
       "1        dona de casa                         2       Casada       3   \n",
       "2        desempregado                         0     Solteiro       1   \n",
       "3        desempregado                         1     Solteiro       0   \n",
       "4  Gerente de Projeto                         3        Viuvo       2   \n",
       "\n",
       "                        lazer_final_de_semana pratica_esporte   qual_esporte  \\\n",
       "0  estudar, academia, jogar video game,surfar             sim       academia   \n",
       "1                                      ver tv             não              -   \n",
       "2                                  jogar bola             sim      jogo bola   \n",
       "3                                      estudo             sim  correr na rua   \n",
       "4                                Nã faço nada             NaN              -   \n",
       "\n",
       "   quanta_vezes_na_semana_pratica_esporte tem carro     escolaridade  idade  \\\n",
       "0                                     3.0       sim  Ensino Superior     35   \n",
       "1                                     0.0       não     Ensino Médio     50   \n",
       "2                                     2.0       sim  Ensino Superior     30   \n",
       "3                                     4.0       não  Ensino Superior     25   \n",
       "4                                     NaN       sim  Ensino Superior     70   \n",
       "\n",
       "   salario até 3 anos  salaior +3 anos  soma_salario  \n",
       "0               10000            14000         24000  \n",
       "1                1200             1200          2400  \n",
       "2                   0                0             0  \n",
       "3                   0                0             0  \n",
       "4                5000            10000         15000  "
      ]
     },
     "execution_count": 25,
     "metadata": {},
     "output_type": "execute_result"
    }
   ],
   "source": [
    "cadastro_prof.head()"
   ]
  },
  {
   "cell_type": "markdown",
   "metadata": {},
   "source": [
    "<b>Finalmente!!</b>\n",
    "\n",
    "Vou printar a <b>'Média salarial'</b> da coluna nova com o método <b>mean</b>."
   ]
  },
  {
   "cell_type": "code",
   "execution_count": 26,
   "metadata": {},
   "outputs": [
    {
     "name": "stdout",
     "output_type": "stream",
     "text": [
      "Média salarial do Cadastro é: 9589.66\n"
     ]
    }
   ],
   "source": [
    "print('Média salarial do Cadastro é:', round(cadastro_prof['soma_salario'].mean(),2))"
   ]
  },
  {
   "cell_type": "markdown",
   "metadata": {},
   "source": [
    "<b>7 - Quem tem o maior salário ?</b>\n",
    "\n",
    "Vou criar um novo df chamado <b>'salarios'</b> para extrair essas informaçōes."
   ]
  },
  {
   "cell_type": "code",
   "execution_count": 27,
   "metadata": {},
   "outputs": [],
   "source": [
    "salarios = cadastro_prof.groupby('profissão')['soma_salario'].sum().reset_index()"
   ]
  },
  {
   "cell_type": "code",
   "execution_count": 28,
   "metadata": {},
   "outputs": [
    {
     "data": {
      "text/html": [
       "<div>\n",
       "<style scoped>\n",
       "    .dataframe tbody tr th:only-of-type {\n",
       "        vertical-align: middle;\n",
       "    }\n",
       "\n",
       "    .dataframe tbody tr th {\n",
       "        vertical-align: top;\n",
       "    }\n",
       "\n",
       "    .dataframe thead th {\n",
       "        text-align: right;\n",
       "    }\n",
       "</style>\n",
       "<table border=\"1\" class=\"dataframe\">\n",
       "  <thead>\n",
       "    <tr style=\"text-align: right;\">\n",
       "      <th></th>\n",
       "      <th>profissão</th>\n",
       "      <th>soma_salario</th>\n",
       "    </tr>\n",
       "  </thead>\n",
       "  <tbody>\n",
       "    <tr>\n",
       "      <th>0</th>\n",
       "      <td>Analista de Sistemas</td>\n",
       "      <td>10500</td>\n",
       "    </tr>\n",
       "    <tr>\n",
       "      <th>1</th>\n",
       "      <td>Autonoma</td>\n",
       "      <td>16000</td>\n",
       "    </tr>\n",
       "    <tr>\n",
       "      <th>2</th>\n",
       "      <td>Auxiliar de Enfermagem</td>\n",
       "      <td>5500</td>\n",
       "    </tr>\n",
       "    <tr>\n",
       "      <th>3</th>\n",
       "      <td>Biomedica</td>\n",
       "      <td>8000</td>\n",
       "    </tr>\n",
       "    <tr>\n",
       "      <th>4</th>\n",
       "      <td>Caminhoneiro</td>\n",
       "      <td>34000</td>\n",
       "    </tr>\n",
       "    <tr>\n",
       "      <th>5</th>\n",
       "      <td>Cientista de Dados</td>\n",
       "      <td>24000</td>\n",
       "    </tr>\n",
       "    <tr>\n",
       "      <th>6</th>\n",
       "      <td>Comercio Exterior</td>\n",
       "      <td>7300</td>\n",
       "    </tr>\n",
       "    <tr>\n",
       "      <th>7</th>\n",
       "      <td>Dentista</td>\n",
       "      <td>21000</td>\n",
       "    </tr>\n",
       "    <tr>\n",
       "      <th>8</th>\n",
       "      <td>Enfermeira</td>\n",
       "      <td>20000</td>\n",
       "    </tr>\n",
       "    <tr>\n",
       "      <th>9</th>\n",
       "      <td>Frentista</td>\n",
       "      <td>4300</td>\n",
       "    </tr>\n",
       "    <tr>\n",
       "      <th>10</th>\n",
       "      <td>Gerente Financeiro</td>\n",
       "      <td>27000</td>\n",
       "    </tr>\n",
       "    <tr>\n",
       "      <th>11</th>\n",
       "      <td>Gerente Geral</td>\n",
       "      <td>8900</td>\n",
       "    </tr>\n",
       "    <tr>\n",
       "      <th>12</th>\n",
       "      <td>Gerente de Projeto</td>\n",
       "      <td>15000</td>\n",
       "    </tr>\n",
       "    <tr>\n",
       "      <th>13</th>\n",
       "      <td>Médica</td>\n",
       "      <td>32000</td>\n",
       "    </tr>\n",
       "    <tr>\n",
       "      <th>14</th>\n",
       "      <td>Nutricionista</td>\n",
       "      <td>11000</td>\n",
       "    </tr>\n",
       "    <tr>\n",
       "      <th>15</th>\n",
       "      <td>Pedreiro</td>\n",
       "      <td>9000</td>\n",
       "    </tr>\n",
       "    <tr>\n",
       "      <th>16</th>\n",
       "      <td>Professora</td>\n",
       "      <td>8000</td>\n",
       "    </tr>\n",
       "    <tr>\n",
       "      <th>17</th>\n",
       "      <td>Recursos Humanos</td>\n",
       "      <td>6500</td>\n",
       "    </tr>\n",
       "    <tr>\n",
       "      <th>18</th>\n",
       "      <td>caixa de mercado</td>\n",
       "      <td>2100</td>\n",
       "    </tr>\n",
       "    <tr>\n",
       "      <th>19</th>\n",
       "      <td>desempregado</td>\n",
       "      <td>0</td>\n",
       "    </tr>\n",
       "    <tr>\n",
       "      <th>20</th>\n",
       "      <td>dona de casa</td>\n",
       "      <td>2400</td>\n",
       "    </tr>\n",
       "    <tr>\n",
       "      <th>21</th>\n",
       "      <td>estagiario</td>\n",
       "      <td>5600</td>\n",
       "    </tr>\n",
       "    <tr>\n",
       "      <th>22</th>\n",
       "      <td>estudante</td>\n",
       "      <td>0</td>\n",
       "    </tr>\n",
       "  </tbody>\n",
       "</table>\n",
       "</div>"
      ],
      "text/plain": [
       "                 profissão  soma_salario\n",
       "0     Analista de Sistemas         10500\n",
       "1                 Autonoma         16000\n",
       "2   Auxiliar de Enfermagem          5500\n",
       "3                Biomedica          8000\n",
       "4             Caminhoneiro         34000\n",
       "5       Cientista de Dados         24000\n",
       "6        Comercio Exterior          7300\n",
       "7                 Dentista         21000\n",
       "8               Enfermeira         20000\n",
       "9                Frentista          4300\n",
       "10      Gerente Financeiro         27000\n",
       "11           Gerente Geral          8900\n",
       "12      Gerente de Projeto         15000\n",
       "13                  Médica         32000\n",
       "14           Nutricionista         11000\n",
       "15                Pedreiro          9000\n",
       "16              Professora          8000\n",
       "17        Recursos Humanos          6500\n",
       "18        caixa de mercado          2100\n",
       "19            desempregado             0\n",
       "20            dona de casa          2400\n",
       "21              estagiario          5600\n",
       "22               estudante             0"
      ]
     },
     "execution_count": 28,
     "metadata": {},
     "output_type": "execute_result"
    }
   ],
   "source": [
    "salarios"
   ]
  },
  {
   "cell_type": "markdown",
   "metadata": {},
   "source": [
    "<b>Resposta</b>\n",
    "\n",
    "Utilizando o método <b>loc</b> vou filtar a coluna <b>'soma_salario'</b> e com o método <b>idxmax</b> vou encontrar o valor máximo através do seu índice."
   ]
  },
  {
   "cell_type": "code",
   "execution_count": 29,
   "metadata": {},
   "outputs": [
    {
     "data": {
      "text/plain": [
       "profissão       Caminhoneiro\n",
       "soma_salario           34000\n",
       "Name: 4, dtype: object"
      ]
     },
     "execution_count": 29,
     "metadata": {},
     "output_type": "execute_result"
    }
   ],
   "source": [
    "salarios.loc[salarios['soma_salario'].idxmax()]"
   ]
  },
  {
   "cell_type": "markdown",
   "metadata": {},
   "source": [
    "<b>8 - Tirando desempregado quem recebe menos ?</b>\n",
    "\n",
    "Para isso vou criar um novo df <b>'menor_sal'</b> excluindo o <b>'desempregado'</b> e o <b>'estudante'</b> que não tem salário."
   ]
  },
  {
   "cell_type": "code",
   "execution_count": 30,
   "metadata": {},
   "outputs": [],
   "source": [
    "menor_sal= salarios.loc[(salarios['profissão']!='desempregado')\n",
    "& (salarios['profissão']!='estudante')]"
   ]
  },
  {
   "cell_type": "code",
   "execution_count": 31,
   "metadata": {},
   "outputs": [
    {
     "data": {
      "text/html": [
       "<div>\n",
       "<style scoped>\n",
       "    .dataframe tbody tr th:only-of-type {\n",
       "        vertical-align: middle;\n",
       "    }\n",
       "\n",
       "    .dataframe tbody tr th {\n",
       "        vertical-align: top;\n",
       "    }\n",
       "\n",
       "    .dataframe thead th {\n",
       "        text-align: right;\n",
       "    }\n",
       "</style>\n",
       "<table border=\"1\" class=\"dataframe\">\n",
       "  <thead>\n",
       "    <tr style=\"text-align: right;\">\n",
       "      <th></th>\n",
       "      <th>profissão</th>\n",
       "      <th>soma_salario</th>\n",
       "    </tr>\n",
       "  </thead>\n",
       "  <tbody>\n",
       "    <tr>\n",
       "      <th>0</th>\n",
       "      <td>Analista de Sistemas</td>\n",
       "      <td>10500</td>\n",
       "    </tr>\n",
       "    <tr>\n",
       "      <th>1</th>\n",
       "      <td>Autonoma</td>\n",
       "      <td>16000</td>\n",
       "    </tr>\n",
       "    <tr>\n",
       "      <th>2</th>\n",
       "      <td>Auxiliar de Enfermagem</td>\n",
       "      <td>5500</td>\n",
       "    </tr>\n",
       "    <tr>\n",
       "      <th>3</th>\n",
       "      <td>Biomedica</td>\n",
       "      <td>8000</td>\n",
       "    </tr>\n",
       "    <tr>\n",
       "      <th>4</th>\n",
       "      <td>Caminhoneiro</td>\n",
       "      <td>34000</td>\n",
       "    </tr>\n",
       "    <tr>\n",
       "      <th>5</th>\n",
       "      <td>Cientista de Dados</td>\n",
       "      <td>24000</td>\n",
       "    </tr>\n",
       "    <tr>\n",
       "      <th>6</th>\n",
       "      <td>Comercio Exterior</td>\n",
       "      <td>7300</td>\n",
       "    </tr>\n",
       "    <tr>\n",
       "      <th>7</th>\n",
       "      <td>Dentista</td>\n",
       "      <td>21000</td>\n",
       "    </tr>\n",
       "    <tr>\n",
       "      <th>8</th>\n",
       "      <td>Enfermeira</td>\n",
       "      <td>20000</td>\n",
       "    </tr>\n",
       "    <tr>\n",
       "      <th>9</th>\n",
       "      <td>Frentista</td>\n",
       "      <td>4300</td>\n",
       "    </tr>\n",
       "    <tr>\n",
       "      <th>10</th>\n",
       "      <td>Gerente Financeiro</td>\n",
       "      <td>27000</td>\n",
       "    </tr>\n",
       "    <tr>\n",
       "      <th>11</th>\n",
       "      <td>Gerente Geral</td>\n",
       "      <td>8900</td>\n",
       "    </tr>\n",
       "    <tr>\n",
       "      <th>12</th>\n",
       "      <td>Gerente de Projeto</td>\n",
       "      <td>15000</td>\n",
       "    </tr>\n",
       "    <tr>\n",
       "      <th>13</th>\n",
       "      <td>Médica</td>\n",
       "      <td>32000</td>\n",
       "    </tr>\n",
       "    <tr>\n",
       "      <th>14</th>\n",
       "      <td>Nutricionista</td>\n",
       "      <td>11000</td>\n",
       "    </tr>\n",
       "    <tr>\n",
       "      <th>15</th>\n",
       "      <td>Pedreiro</td>\n",
       "      <td>9000</td>\n",
       "    </tr>\n",
       "    <tr>\n",
       "      <th>16</th>\n",
       "      <td>Professora</td>\n",
       "      <td>8000</td>\n",
       "    </tr>\n",
       "    <tr>\n",
       "      <th>17</th>\n",
       "      <td>Recursos Humanos</td>\n",
       "      <td>6500</td>\n",
       "    </tr>\n",
       "    <tr>\n",
       "      <th>18</th>\n",
       "      <td>caixa de mercado</td>\n",
       "      <td>2100</td>\n",
       "    </tr>\n",
       "    <tr>\n",
       "      <th>20</th>\n",
       "      <td>dona de casa</td>\n",
       "      <td>2400</td>\n",
       "    </tr>\n",
       "    <tr>\n",
       "      <th>21</th>\n",
       "      <td>estagiario</td>\n",
       "      <td>5600</td>\n",
       "    </tr>\n",
       "  </tbody>\n",
       "</table>\n",
       "</div>"
      ],
      "text/plain": [
       "                 profissão  soma_salario\n",
       "0     Analista de Sistemas         10500\n",
       "1                 Autonoma         16000\n",
       "2   Auxiliar de Enfermagem          5500\n",
       "3                Biomedica          8000\n",
       "4             Caminhoneiro         34000\n",
       "5       Cientista de Dados         24000\n",
       "6        Comercio Exterior          7300\n",
       "7                 Dentista         21000\n",
       "8               Enfermeira         20000\n",
       "9                Frentista          4300\n",
       "10      Gerente Financeiro         27000\n",
       "11           Gerente Geral          8900\n",
       "12      Gerente de Projeto         15000\n",
       "13                  Médica         32000\n",
       "14           Nutricionista         11000\n",
       "15                Pedreiro          9000\n",
       "16              Professora          8000\n",
       "17        Recursos Humanos          6500\n",
       "18        caixa de mercado          2100\n",
       "20            dona de casa          2400\n",
       "21              estagiario          5600"
      ]
     },
     "execution_count": 31,
     "metadata": {},
     "output_type": "execute_result"
    }
   ],
   "source": [
    "menor_sal"
   ]
  },
  {
   "cell_type": "markdown",
   "metadata": {},
   "source": [
    "<b>Resposta</b>\n",
    "\n",
    "Utilizando o método <b>loc</b> vou filtar a coluna <b>'soma_salario'</b> e com o método <b>idxmin</b> vou encontrar o menor valor através do seu índice."
   ]
  },
  {
   "cell_type": "code",
   "execution_count": 32,
   "metadata": {},
   "outputs": [
    {
     "data": {
      "text/plain": [
       "profissão       caixa de mercado\n",
       "soma_salario                2100\n",
       "Name: 18, dtype: object"
      ]
     },
     "execution_count": 32,
     "metadata": {},
     "output_type": "execute_result"
    }
   ],
   "source": [
    "menor_sal.loc[menor_sal['soma_salario'].idxmin()]"
   ]
  },
  {
   "cell_type": "markdown",
   "metadata": {},
   "source": [
    "<b>9 - Quantas pessoas gostam de caminhar no final de semana ?</b>\n",
    "\n",
    "Para ter essa informação vou verificar a coluna 'lazer_final_de_semana' no df cadastro_prof."
   ]
  },
  {
   "cell_type": "code",
   "execution_count": 33,
   "metadata": {},
   "outputs": [
    {
     "data": {
      "text/plain": [
       "0            estudar, academia, jogar video game,surfar\n",
       "1                                                ver tv\n",
       "2                                            jogar bola\n",
       "3                                                estudo\n",
       "4                                          Nã faço nada\n",
       "5                                              caminhar\n",
       "6                                barzinho com os amigos\n",
       "7                                          só jogo bola\n",
       "8                                          fico em casa\n",
       "9                         leitura e ficar com os filhos\n",
       "10                      leitura e ficar com minha filha\n",
       "11    só jogo bola, gosto de ficar com os amigos em ...\n",
       "12                                leitura, limpo a casa\n",
       "13           correr, ler, estudar e ficar com os amigos\n",
       "14    fico com meus filhos, durante a semana não ten...\n",
       "15                                            churrasco\n",
       "16                                        não faço nada\n",
       "17                                        correr na rua\n",
       "18             caminhar, ler livros e ficar com o filho\n",
       "19                         correr e ficar com os amigos\n",
       "20                            academia, limpeza de casa\n",
       "21                                            jogo bola\n",
       "22                        caminhar, ficar com os filhos\n",
       "23                                                 nada\n",
       "24                                            jogo bola\n",
       "25                  final de semana tiro para descançar\n",
       "26                   barzinho com os amigos e descançar\n",
       "27                   barzinho com os amigos e descançar\n",
       "28           correr, ler, estudar e ficar com os amigos\n",
       "Name: lazer_final_de_semana, dtype: object"
      ]
     },
     "execution_count": 33,
     "metadata": {},
     "output_type": "execute_result"
    }
   ],
   "source": [
    "cadastro_prof['lazer_final_de_semana']"
   ]
  },
  {
   "cell_type": "markdown",
   "metadata": {},
   "source": [
    "<b>Problema!</b>\n",
    "\n",
    "Preciso extrair somente a palavra <b>'caminhar'</b> na coluna para contar as pessoas que gostam de caminhar. Para isso vou utilizar método <b>contains</b> e somar o resultado, guardando dentro de uma váriavel chamada <b>'Qtd_caminhar'</b>"
   ]
  },
  {
   "cell_type": "code",
   "execution_count": 34,
   "metadata": {},
   "outputs": [],
   "source": [
    "Qntd_Caminhar = cadastro_prof['lazer_final_de_semana'].str.contains(\"caminhar\", regex=False).sum()"
   ]
  },
  {
   "cell_type": "markdown",
   "metadata": {},
   "source": [
    "<b>Resposta</b>\n",
    "\n",
    "Utilizando o <b>print</b> temos o resultado."
   ]
  },
  {
   "cell_type": "code",
   "execution_count": 35,
   "metadata": {},
   "outputs": [
    {
     "name": "stdout",
     "output_type": "stream",
     "text": [
      "Qntd de pessoas que gostam de caminhar no final de semana é: 3\n"
     ]
    }
   ],
   "source": [
    "print('Qntd de pessoas que gostam de caminhar no final de semana é:',Qntd_Caminhar)"
   ]
  },
  {
   "cell_type": "markdown",
   "metadata": {},
   "source": [
    "<b>10 - Crie um gráfico mostrando entre a relação de escolaridade e quem pratica esporte ?</b>\n",
    "\n",
    "\n",
    "\n",
    "vou criar um novo df chamado <b>'gf_esp_esc'</b> com o agrupamento das informaçōes de quem <b>'pratica_esporte'</b> e seu grau de <b>'escolaridade'</b>"
   ]
  },
  {
   "cell_type": "code",
   "execution_count": 36,
   "metadata": {},
   "outputs": [],
   "source": [
    "gf_esp_esc = cadastro_prof.groupby(['pratica_esporte','escolaridade'])['nome'].count().reset_index(name='qtd_pessoas')"
   ]
  },
  {
   "cell_type": "code",
   "execution_count": 37,
   "metadata": {},
   "outputs": [
    {
     "data": {
      "text/html": [
       "<div>\n",
       "<style scoped>\n",
       "    .dataframe tbody tr th:only-of-type {\n",
       "        vertical-align: middle;\n",
       "    }\n",
       "\n",
       "    .dataframe tbody tr th {\n",
       "        vertical-align: top;\n",
       "    }\n",
       "\n",
       "    .dataframe thead th {\n",
       "        text-align: right;\n",
       "    }\n",
       "</style>\n",
       "<table border=\"1\" class=\"dataframe\">\n",
       "  <thead>\n",
       "    <tr style=\"text-align: right;\">\n",
       "      <th></th>\n",
       "      <th>pratica_esporte</th>\n",
       "      <th>escolaridade</th>\n",
       "      <th>qtd_pessoas</th>\n",
       "    </tr>\n",
       "  </thead>\n",
       "  <tbody>\n",
       "    <tr>\n",
       "      <th>0</th>\n",
       "      <td>não</td>\n",
       "      <td>Ensino Médio</td>\n",
       "      <td>4</td>\n",
       "    </tr>\n",
       "    <tr>\n",
       "      <th>1</th>\n",
       "      <td>não</td>\n",
       "      <td>Ensino Superior</td>\n",
       "      <td>5</td>\n",
       "    </tr>\n",
       "    <tr>\n",
       "      <th>2</th>\n",
       "      <td>sim</td>\n",
       "      <td>Ensimo Tecnico</td>\n",
       "      <td>1</td>\n",
       "    </tr>\n",
       "    <tr>\n",
       "      <th>3</th>\n",
       "      <td>sim</td>\n",
       "      <td>Ensino Médio</td>\n",
       "      <td>3</td>\n",
       "    </tr>\n",
       "    <tr>\n",
       "      <th>4</th>\n",
       "      <td>sim</td>\n",
       "      <td>Ensino Superior</td>\n",
       "      <td>15</td>\n",
       "    </tr>\n",
       "  </tbody>\n",
       "</table>\n",
       "</div>"
      ],
      "text/plain": [
       "  pratica_esporte     escolaridade  qtd_pessoas\n",
       "0             não     Ensino Médio            4\n",
       "1             não  Ensino Superior            5\n",
       "2             sim   Ensimo Tecnico            1\n",
       "3             sim     Ensino Médio            3\n",
       "4             sim  Ensino Superior           15"
      ]
     },
     "execution_count": 37,
     "metadata": {},
     "output_type": "execute_result"
    }
   ],
   "source": [
    "gf_esp_esc"
   ]
  },
  {
   "cell_type": "markdown",
   "metadata": {},
   "source": [
    "<b>Gráfico</b>\n",
    "\n",
    "Usando a biblioteca do <b>'seaborn'</b> temos o resultado."
   ]
  },
  {
   "cell_type": "code",
   "execution_count": 38,
   "metadata": {},
   "outputs": [
    {
     "data": {
      "image/png": "[encoded data removed]",
      "text/plain": [
       "<Figure size 432x288 with 1 Axes>"
      ]
     },
     "metadata": {
      "needs_background": "light"
     },
     "output_type": "display_data"
    }
   ],
   "source": [
    "import seaborn as sns\n",
    "\n",
    "sns.barplot(x='escolaridade', y='qtd_pessoas', hue='pratica_esporte', data=gf_esp_esc);"
   ]
  },
  {
   "cell_type": "markdown",
   "metadata": {},
   "source": [
    "<b>12 - Mostre de forma gráfica a distribuição de estados do cadastro ?</b>\n",
    "\n",
    "vou criar um novo df chamado <b>'gf_estados'</b> com o agrupamento das informaçōes de <b>'cidades'</b> e quantidade de pessoas com a  coluna <b>'nome'</b>"
   ]
  },
  {
   "cell_type": "code",
   "execution_count": 39,
   "metadata": {},
   "outputs": [],
   "source": [
    "gf_estados=cadastro_prof.groupby('cidade')['nome'].count().reset_index(name='qtd_pessoas')"
   ]
  },
  {
   "cell_type": "code",
   "execution_count": 40,
   "metadata": {},
   "outputs": [
    {
     "data": {
      "text/html": [
       "<div>\n",
       "<style scoped>\n",
       "    .dataframe tbody tr th:only-of-type {\n",
       "        vertical-align: middle;\n",
       "    }\n",
       "\n",
       "    .dataframe tbody tr th {\n",
       "        vertical-align: top;\n",
       "    }\n",
       "\n",
       "    .dataframe thead th {\n",
       "        text-align: right;\n",
       "    }\n",
       "</style>\n",
       "<table border=\"1\" class=\"dataframe\">\n",
       "  <thead>\n",
       "    <tr style=\"text-align: right;\">\n",
       "      <th></th>\n",
       "      <th>cidade</th>\n",
       "      <th>qtd_pessoas</th>\n",
       "    </tr>\n",
       "  </thead>\n",
       "  <tbody>\n",
       "    <tr>\n",
       "      <th>0</th>\n",
       "      <td>Acre</td>\n",
       "      <td>1</td>\n",
       "    </tr>\n",
       "    <tr>\n",
       "      <th>1</th>\n",
       "      <td>Aparecida</td>\n",
       "      <td>1</td>\n",
       "    </tr>\n",
       "    <tr>\n",
       "      <th>2</th>\n",
       "      <td>Bahia</td>\n",
       "      <td>3</td>\n",
       "    </tr>\n",
       "    <tr>\n",
       "      <th>3</th>\n",
       "      <td>Espirito Santo</td>\n",
       "      <td>1</td>\n",
       "    </tr>\n",
       "    <tr>\n",
       "      <th>4</th>\n",
       "      <td>Fortaleza</td>\n",
       "      <td>2</td>\n",
       "    </tr>\n",
       "    <tr>\n",
       "      <th>5</th>\n",
       "      <td>Goias</td>\n",
       "      <td>2</td>\n",
       "    </tr>\n",
       "    <tr>\n",
       "      <th>6</th>\n",
       "      <td>Minas Gerais</td>\n",
       "      <td>2</td>\n",
       "    </tr>\n",
       "    <tr>\n",
       "      <th>7</th>\n",
       "      <td>Monte Alto</td>\n",
       "      <td>1</td>\n",
       "    </tr>\n",
       "    <tr>\n",
       "      <th>8</th>\n",
       "      <td>Pernanbuco</td>\n",
       "      <td>1</td>\n",
       "    </tr>\n",
       "    <tr>\n",
       "      <th>9</th>\n",
       "      <td>Rio Grande do Sul</td>\n",
       "      <td>1</td>\n",
       "    </tr>\n",
       "    <tr>\n",
       "      <th>10</th>\n",
       "      <td>Rio de Janeiro</td>\n",
       "      <td>1</td>\n",
       "    </tr>\n",
       "    <tr>\n",
       "      <th>11</th>\n",
       "      <td>Santa Catarina</td>\n",
       "      <td>1</td>\n",
       "    </tr>\n",
       "    <tr>\n",
       "      <th>12</th>\n",
       "      <td>Santo Andre</td>\n",
       "      <td>1</td>\n",
       "    </tr>\n",
       "    <tr>\n",
       "      <th>13</th>\n",
       "      <td>Santos</td>\n",
       "      <td>1</td>\n",
       "    </tr>\n",
       "    <tr>\n",
       "      <th>14</th>\n",
       "      <td>São Caetano</td>\n",
       "      <td>1</td>\n",
       "    </tr>\n",
       "    <tr>\n",
       "      <th>15</th>\n",
       "      <td>São Paulo</td>\n",
       "      <td>7</td>\n",
       "    </tr>\n",
       "    <tr>\n",
       "      <th>16</th>\n",
       "      <td>São Vicente</td>\n",
       "      <td>1</td>\n",
       "    </tr>\n",
       "    <tr>\n",
       "      <th>17</th>\n",
       "      <td>Vitoria</td>\n",
       "      <td>1</td>\n",
       "    </tr>\n",
       "  </tbody>\n",
       "</table>\n",
       "</div>"
      ],
      "text/plain": [
       "               cidade  qtd_pessoas\n",
       "0                Acre            1\n",
       "1           Aparecida            1\n",
       "2               Bahia            3\n",
       "3      Espirito Santo            1\n",
       "4           Fortaleza            2\n",
       "5               Goias            2\n",
       "6        Minas Gerais            2\n",
       "7          Monte Alto            1\n",
       "8          Pernanbuco            1\n",
       "9   Rio Grande do Sul            1\n",
       "10     Rio de Janeiro            1\n",
       "11     Santa Catarina            1\n",
       "12        Santo Andre            1\n",
       "13             Santos            1\n",
       "14        São Caetano            1\n",
       "15          São Paulo            7\n",
       "16        São Vicente            1\n",
       "17            Vitoria            1"
      ]
     },
     "execution_count": 40,
     "metadata": {},
     "output_type": "execute_result"
    }
   ],
   "source": [
    "gf_estados"
   ]
  },
  {
   "cell_type": "markdown",
   "metadata": {},
   "source": [
    "<b>Gráfico</b>\n",
    "\n",
    "Usando a biblioteca do <b>'seaborn'</b> temos o resultado de distribuição por estados."
   ]
  },
  {
   "cell_type": "code",
   "execution_count": 41,
   "metadata": {},
   "outputs": [
    {
     "data": {
      "text/plain": [
       "([0, 1, 2, 3, 4, 5, 6, 7, 8, 9, 10, 11, 12, 13, 14, 15, 16, 17],\n",
       " <a list of 18 Text xticklabel objects>)"
      ]
     },
     "execution_count": 41,
     "metadata": {},
     "output_type": "execute_result"
    },
    {
     "data": {
      "image/png": "[encoded data removed]",
      "text/plain": [
       "<Figure size 701.875x576 with 1 Axes>"
      ]
     },
     "metadata": {
      "needs_background": "light"
     },
     "output_type": "display_data"
    }
   ],
   "source": [
    "import seaborn as sns\n",
    "\n",
    "sns.relplot(x=\"cidade\", y=\"qtd_pessoas\", hue=\"cidade\",data=gf_estados,size=\"qtd_pessoas\",palette='Dark2',height=8)\n",
    "\n",
    "plt.xticks(rotation=60)"
   ]
  },
  {
   "cell_type": "code",
   "execution_count": null,
   "metadata": {},
   "outputs": [],
   "source": []
  }
 ],
 "metadata": {
  "kernelspec": {
   "display_name": "Python 3",
   "language": "python",
   "name": "python3"
  },
  "language_info": {
   "codemirror_mode": {
    "name": "ipython",
    "version": 3
   },
   "file_extension": ".py",
   "mimetype": "text/x-python",
   "name": "python",
   "nbconvert_exporter": "python",
   "pygments_lexer": "ipython3",
   "version": "3.7.1"
  }
 },
 "nbformat": 4,
 "nbformat_minor": 2
}
