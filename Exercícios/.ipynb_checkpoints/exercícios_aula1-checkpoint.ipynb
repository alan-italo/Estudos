{
 "cells": [
  {
   "cell_type": "markdown",
   "metadata": {},
   "source": [
    "<h1>Exercício 1</h1>\n",
    "\n",
    "Criando uma calculadora simples\n",
    "\n",
    "<b> * Passo 1 </b>\n",
    "\n",
    "Criando duas váriaveis chamadas valor1 e valor2, onde essas vão receber os inputs de dados do tipo INT:\n",
    "    \n"
   ]
  },
  {
   "cell_type": "code",
   "execution_count": 1,
   "metadata": {},
   "outputs": [
    {
     "name": "stdin",
     "output_type": "stream",
     "text": [
      "Digite o valor1 :  4\n",
      "Digite o valor2 :  5\n"
     ]
    }
   ],
   "source": [
    "valor1 = int(input(\"Digite o valor1 : \"))\n",
    "valor2 = int(input(\"Digite o valor2 : \"))"
   ]
  },
  {
   "cell_type": "markdown",
   "metadata": {},
   "source": [
    "<b> * Passo 2 </b>\n",
    "\n",
    "Criar a váriavel calculadora, que de forma interativa vai receber um input do usuário com o tipo de operacão aritmética básica ele deseja utilizar. Através de uma estrutura de IFs vão ser criados os resultados de acordo com o tipo de operacão escolhida."
   ]
  },
  {
   "cell_type": "code",
   "execution_count": 11,
   "metadata": {},
   "outputs": [
    {
     "name": "stdin",
     "output_type": "stream",
     "text": [
      "Qual operação deseja realizar ?  s\n"
     ]
    },
    {
     "name": "stdout",
     "output_type": "stream",
     "text": [
      "Escolha uma operação aritmética básica + , - , * ou / \n"
     ]
    }
   ],
   "source": [
    "calc = input(\"Qual operação deseja realizar ? \");\n",
    "\n",
    "if calc == '+':\n",
    "    print(valor1+valor2);\n",
    "elif calc == '-':\n",
    "    print(valor1-valor2);\n",
    "elif calc == '*':\n",
    "    print(valor1*valor2);\n",
    "elif calc == '/':\n",
    "    print(valor1/valor2);\n",
    "else:\n",
    "    print(\"Escolha uma operação aritmética básica + , - , * ou / \");\n",
    "\n",
    "    "
   ]
  },
  {
   "cell_type": "markdown",
   "metadata": {},
   "source": [
    "<h1>Exercicio 2</h1> \n",
    "    \n",
    "<b> * Passo 1 </b>\n",
    "\n",
    "Criar a váriavel nota = [9,6,7,3,8,8,\"oito\", \"A\", \"C\"] do tipo \"list\", depois tirar a média desses valores.\n",
    "\n",
    "Observação: temos valores do tipo \"string\" nesse array, a media só se tira com valores \"int\"."
   ]
  },
  {
   "cell_type": "code",
   "execution_count": 12,
   "metadata": {},
   "outputs": [],
   "source": [
    "nota = [9,6,7,3,8,8,\"oito\", \"A\", \"C\"]"
   ]
  },
  {
   "cell_type": "markdown",
   "metadata": {},
   "source": [
    "<b> * Passo 2 </b>\n",
    "\n",
    "Vou utilizar os method \"remove\" para remover as strings da list:"
   ]
  },
  {
   "cell_type": "code",
   "execution_count": 14,
   "metadata": {},
   "outputs": [
    {
     "name": "stdout",
     "output_type": "stream",
     "text": [
      "[9, 6, 7, 3, 8, 8]\n"
     ]
    }
   ],
   "source": [
    "nota.remove(\"oito\")\n",
    "nota.remove(\"A\")\n",
    "nota.remove(\"C\")\n",
    "\n",
    "print(nota)"
   ]
  },
  {
   "cell_type": "markdown",
   "metadata": {},
   "source": [
    "<b> * Passo 3 </b>\n",
    "\n",
    "Vou utilizar os method \"len\" para criar a váriavel Total para conseguir tirar a média:\n"
   ]
  },
  {
   "cell_type": "code",
   "execution_count": 15,
   "metadata": {},
   "outputs": [],
   "source": [
    "Total = len(nota)"
   ]
  },
  {
   "cell_type": "markdown",
   "metadata": {},
   "source": [
    "<b> * Passo 4 </b>\n",
    "\n",
    "Vou utilizar a estrtura de repetição \"for\" para somar os números da lista:"
   ]
  },
  {
   "cell_type": "code",
   "execution_count": 21,
   "metadata": {},
   "outputs": [
    {
     "name": "stdout",
     "output_type": "stream",
     "text": [
      "41\n"
     ]
    }
   ],
   "source": [
    "soma = 0\n",
    "\n",
    "for n in nota:\n",
    "    soma = soma + n\n",
    "    \n",
    "print(soma)"
   ]
  },
  {
   "cell_type": "markdown",
   "metadata": {},
   "source": [
    "<b> * Passo 5 </b>\n",
    "\n",
    "Vou imprimir o resultado da média através de uma divisão da soma pelo total, além de utilizar o method \"round\" para deixar o resultado com 4 casas decimais:"
   ]
  },
  {
   "cell_type": "code",
   "execution_count": 23,
   "metadata": {},
   "outputs": [
    {
     "name": "stdout",
     "output_type": "stream",
     "text": [
      "média :  6.8333\n"
     ]
    }
   ],
   "source": [
    "print(\"média : \",round(soma/Total,4))"
   ]
  },
  {
   "cell_type": "code",
   "execution_count": null,
   "metadata": {},
   "outputs": [],
   "source": []
  }
 ],
 "metadata": {
  "kernelspec": {
   "display_name": "Python 3",
   "language": "python",
   "name": "python3"
  },
  "language_info": {
   "codemirror_mode": {
    "name": "ipython",
    "version": 3
   },
   "file_extension": ".py",
   "mimetype": "text/x-python",
   "name": "python",
   "nbconvert_exporter": "python",
   "pygments_lexer": "ipython3",
   "version": "3.7.1"
  }
 },
 "nbformat": 4,
 "nbformat_minor": 2
}
