{
 "cells": [
  {
   "cell_type": "markdown",
   "metadata": {},
   "source": [
    "<b>Classes (Orientação Objeto)</br>\n",
    "\n",
    "Classes proporcionam uma forma de organizar dados e funcionalidades juntos. Criar uma nova classe cria um novo “tipo” de objeto, permitindo que novas “instâncias” desse tipo sejam produzidas. Cada instância da classe pode ter atributos anexados a ela, para manter seu estado. Instâncias da classe também podem ter métodos (definidos pela classe) para modificar seu estado.\n",
    "\n",
    "Segundo a documentação do Python e o video Python para Zumbis, uma classe associa dados (atributos) e operações (métodos) numa só estrutura. Um objeto é uma instância de uma classe. Ou seja, uma representação da classe. Por exemplo, Regis é uma instância de uma classe chamada Pessoa, mas a Pessoa é a classe que o representa de uma forma genérica. Se você criar um outro objeto chamado Fabio, esse objeto também será uma instancia da classe Pessoa."
   ]
  },
  {
   "cell_type": "markdown",
   "metadata": {},
   "source": [
    "<b>Objetos</b>\n",
    "\n",
    "Objetos têm individualidade, e vários nomes (em diferentes escopos) podem ser vinculados a um mesmo objeto. Isso é chamado de apelidamento em outras linguagens. Geralmente, esta característica não é muito apreciada, e pode ser ignorada com segurança ao lidar com tipos imutáveis (números, strings, tuplas). Entretanto, apelidamento pode ter um efeito surpreendente na semântica do código Python envolvendo objetos mutáveis como listas, dicionários e a maioria dos outros tipos. Isso pode ser usado em benefício do programa, porque os apelidos funcionam de certa forma como ponteiros. Por exemplo, passar um objeto como argumento é barato, pois só um ponteiro é passado na implementação; e se uma função modifica um objeto passado como argumento, o invocador verá a mudança — isso elimina a necessidade de ter dois mecanismos de passagem de parâmetros como em Pascal"
   ]
  },
  {
   "cell_type": "markdown",
   "metadata": {},
   "source": [
    "<b>O que é uma classe ?</b>"
   ]
  },
  {
   "cell_type": "markdown",
   "metadata": {},
   "source": [
    "A classe representa uma abstração de um determinado objeto da vida real.\n",
    "\n",
    "Exemplo:"
   ]
  },
  {
   "cell_type": "code",
   "execution_count": 6,
   "metadata": {},
   "outputs": [
    {
     "name": "stdout",
     "output_type": "stream",
     "text": [
      "uma classe\n"
     ]
    }
   ],
   "source": [
    "class Pessoa:\n",
    "    def __init__(self):\n",
    "        print(\"uma classe\")\n",
    "p = Pessoa()"
   ]
  },
  {
   "cell_type": "markdown",
   "metadata": {},
   "source": [
    "Vamos agora dissecar, tudo para criar uma classe:\n",
    "\n",
    "Quando temos que criar uma classe, ela sempre começa com a palavra reservada <font size= 4, color = 'green'>class</font>\n",
    "\n",
    "<b>Exemplo:</b>\n",
    "\n",
    "<font size= 4, color = 'green'>class</font> Pessoa:\n"
   ]
  },
  {
   "cell_type": "markdown",
   "metadata": {},
   "source": [
    "<b><font size= 4, color = 'red'>Importante!!!</font></b> Lembrar que para funcionar toda classe precisa ter um corpo"
   ]
  },
  {
   "cell_type": "markdown",
   "metadata": {},
   "source": [
    "<b>Construturo:</b> Toda classe tem um contrutor. Um construtor é um metodo, que iniciar as informações dentro de uma classe. No python o construtor inicial é feito da seguinte forma: def __init__(self):\n",
    "\n",
    "Na classe Pessoa, temos um exemplo de construtor."
   ]
  },
  {
   "cell_type": "markdown",
   "metadata": {},
   "source": [
    "<b>Metodo:<b/> Um metodo é uma função que vai agir como uma ação que o objeto irá executar. Exemplo: def set_nome(self, nome)\n",
    "\n",
    "No exemplo, o metodo set esta setando um nome para o objeto pessoa. "
   ]
  },
  {
   "cell_type": "code",
   "execution_count": 11,
   "metadata": {},
   "outputs": [
    {
     "name": "stdout",
     "output_type": "stream",
     "text": [
      "construindo uma classe\n",
      "thiago\n"
     ]
    }
   ],
   "source": [
    "#exemplo de metodo\n",
    "\n",
    "class Pessoa:\n",
    "    \n",
    "    nome = ''\n",
    "    \n",
    "    def __init__(self):\n",
    "        print(\"construindo uma classe\")\n",
    "        \n",
    "    def setNome(self, nome):\n",
    "        self.nome = nome\n",
    "    \n",
    "    def getNome(self):\n",
    "        return self.nome\n",
    "p = Pessoa()\n",
    "p.setNome('thiago')\n",
    "print(p.getNome())"
   ]
  },
  {
   "cell_type": "markdown",
   "metadata": {},
   "source": [
    "<b>self:</b> Frequentemente, o primeiro argumento de um método é chamado self. Isso não passa de uma convenção: o identificador self não é uma palavra reservada nem possui qualquer significado especial em Python. Mas note que, ao seguir essa convenção, seu código se torna legível por uma grande comunidade de desenvolvedores Python e é possível que alguma IDE dependa dessa convenção para analisar seu código."
   ]
  },
  {
   "cell_type": "markdown",
   "metadata": {},
   "source": [
    "Exercicio: Crie uma classe chamada"
   ]
  },
  {
   "cell_type": "code",
   "execution_count": null,
   "metadata": {},
   "outputs": [],
   "source": []
  }
 ],
 "metadata": {
  "kernelspec": {
   "display_name": "Python 3",
   "language": "python",
   "name": "python3"
  },
  "language_info": {
   "codemirror_mode": {
    "name": "ipython",
    "version": 3
   },
   "file_extension": ".py",
   "mimetype": "text/x-python",
   "name": "python",
   "nbconvert_exporter": "python",
   "pygments_lexer": "ipython3",
   "version": "3.7.4"
  }
 },
 "nbformat": 4,
 "nbformat_minor": 4
}
