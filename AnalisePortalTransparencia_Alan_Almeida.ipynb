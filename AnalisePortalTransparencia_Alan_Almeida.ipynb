{
  "nbformat": 4,
  "nbformat_minor": 0,
  "metadata": {
    "colab": {
      "name": "AnalisePortalTransparencia -Alan_Almeida.ipynb",
      "provenance": [],
      "collapsed_sections": [],
      "include_colab_link": true
    },
    "kernelspec": {
      "display_name": "Python 3",
      "language": "python",
      "name": "python3"
    },
    "language_info": {
      "codemirror_mode": {
        "name": "ipython",
        "version": 3
      },
      "file_extension": ".py",
      "mimetype": "text/x-python",
      "name": "python",
      "nbconvert_exporter": "python",
      "pygments_lexer": "ipython3",
      "version": "3.8.3"
    }
  },
  "cells": [
    {
      "cell_type": "markdown",
      "metadata": {
        "id": "view-in-github",
        "colab_type": "text"
      },
      "source": [
        "<a href=\"https://colab.research.google.com/github/alan-italo/Estudos/blob/master/AnalisePortalTransparencia_Alan_Almeida.ipynb\" target=\"_parent\"><img src=\"https://colab.research.google.com/assets/colab-badge.svg\" alt=\"Open In Colab\"/></a>"
      ]
    },
    {
      "cell_type": "markdown",
      "metadata": {
        "id": "WCWIJHu67lmJ"
      },
      "source": [
        "1 - Configurando o Spark no python"
      ]
    },
    {
      "cell_type": "code",
      "metadata": {
        "id": "n0emjIgh7scj"
      },
      "source": [
        "# Instalação e config. do java\n",
        "!apt-get install openjdk-8-jdk-headless -qq > /dev/null\n",
        "\n",
        "#Download do apache spark\n",
        "!wget -q http://apache.osuosl.org/spark/spark-3.0.1/spark-3.0.1-bin-hadoop3.2.tgz\n",
        "\n",
        "#Descompactando o apache spark\n",
        "!tar xf spark-3.0.1-bin-hadoop3.2.tgz\n",
        "\n",
        "#Instalacao do findspark\n",
        "!pip install -q findspark"
      ],
      "execution_count": 1,
      "outputs": []
    },
    {
      "cell_type": "markdown",
      "metadata": {
        "id": "gX4fl10j_RQ5"
      },
      "source": [
        "2 - Configurando o ambiente JAVA"
      ]
    },
    {
      "cell_type": "code",
      "metadata": {
        "id": "lSADy3jU_yq9"
      },
      "source": [
        "import os\n",
        "os.environ[\"JAVA_HOME\"] = \"/usr/lib/jvm/java-8-openjdk-amd64\"\n",
        "os.environ[\"SPARK_HOME\"] = \"/content/spark-3.0.1-bin-hadoop3.2\""
      ],
      "execution_count": 2,
      "outputs": []
    },
    {
      "cell_type": "markdown",
      "metadata": {
        "id": "0xNjLQYmBIbF"
      },
      "source": [
        "3 - Configurando a sessao do Spark"
      ]
    },
    {
      "cell_type": "code",
      "metadata": {
        "id": "v5rclYJW_X7S"
      },
      "source": [
        "import findspark\n",
        "findspark.init()\n",
        "from pyspark.sql import SparkSession\n",
        "spark = SparkSession.builder.master(\"local[*]\").getOrCreate()"
      ],
      "execution_count": 3,
      "outputs": []
    },
    {
      "cell_type": "markdown",
      "metadata": {
        "id": "RJNnSf89BUC8"
      },
      "source": [
        "4 - Validando a configuracao da versao do spark"
      ]
    },
    {
      "cell_type": "code",
      "metadata": {
        "id": "zEq19L1eBad5",
        "outputId": "b2d23711-c160-4300-a345-6276f99c98fc",
        "colab": {
          "base_uri": "https://localhost:8080/"
        }
      },
      "source": [
        "import pyspark\n",
        "print(pyspark.__version__)"
      ],
      "execution_count": 4,
      "outputs": [
        {
          "output_type": "stream",
          "text": [
            "3.0.1\n"
          ],
          "name": "stdout"
        }
      ]
    },
    {
      "cell_type": "markdown",
      "metadata": {
        "id": "czI5CfqYFJ8a"
      },
      "source": [
        "5. consultando dados usando CURL\n",
        "Após acessar o site do governo e gerar a rash de acesso "
      ]
    },
    {
      "cell_type": "code",
      "metadata": {
        "id": "_oQRnE0WFNuY",
        "outputId": "6628c338-d2a8-4ac3-fbb4-905195537735",
        "colab": {
          "base_uri": "https://localhost:8080/"
        }
      },
      "source": [
        "!curl -X GET --header 'Accept: application/json' --header 'chave-api-dados: c0b9a7962c523e4d756e81a406c35fd6' 'http://www.portaltransparencia.gov.br/api-de-dados/cartoes?mesExtratoInicio=08%2F2020&mesExtratoFim=09%2F2020&pagina=1'> consulta_portal_transparencia.json"
      ],
      "execution_count": 5,
      "outputs": [
        {
          "output_type": "stream",
          "text": [
            "  % Total    % Received % Xferd  Average Speed   Time    Time     Time  Current\n",
            "                                 Dload  Upload   Total   Spent    Left  Speed\n",
            "100 26369    0 26369    0     0   8996      0 --:--:--  0:00:02 --:--:--  8993\n"
          ],
          "name": "stdout"
        }
      ]
    },
    {
      "cell_type": "code",
      "metadata": {
        "id": "G8SQ64tEFZ3P"
      },
      "source": [
        "sc = spark.sparkContext\n",
        "path = \"/content/consulta_portal_transparencia.json\" \n",
        "df = spark.read.json(path)"
      ],
      "execution_count": 8,
      "outputs": []
    },
    {
      "cell_type": "code",
      "metadata": {
        "id": "jMMFhL6tF-0Z",
        "outputId": "3e364dea-dd8f-4078-cecd-381c53fca506",
        "colab": {
          "base_uri": "https://localhost:8080/"
        }
      },
      "source": [
        "df.printSchema()\n",
        "df.show()"
      ],
      "execution_count": 9,
      "outputs": [
        {
          "output_type": "stream",
          "text": [
            "root\n",
            " |-- dataTransacao: string (nullable = true)\n",
            " |-- estabelecimento: struct (nullable = true)\n",
            " |    |-- cnae: struct (nullable = true)\n",
            " |    |    |-- classe: string (nullable = true)\n",
            " |    |    |-- codigoClasse: string (nullable = true)\n",
            " |    |    |-- codigoDivisao: string (nullable = true)\n",
            " |    |    |-- codigoGrupo: string (nullable = true)\n",
            " |    |    |-- codigoSecao: string (nullable = true)\n",
            " |    |    |-- codigoSubclasse: string (nullable = true)\n",
            " |    |    |-- divisao: string (nullable = true)\n",
            " |    |    |-- grupo: string (nullable = true)\n",
            " |    |    |-- secao: string (nullable = true)\n",
            " |    |    |-- subclasse: string (nullable = true)\n",
            " |    |-- codigoFormatado: string (nullable = true)\n",
            " |    |-- complementoEndereco: string (nullable = true)\n",
            " |    |-- dataAbertura: string (nullable = true)\n",
            " |    |-- descricaoLogradouro: string (nullable = true)\n",
            " |    |-- enderecoEletronico: string (nullable = true)\n",
            " |    |-- localidadePessoa: string (nullable = true)\n",
            " |    |-- municipio: struct (nullable = true)\n",
            " |    |    |-- codigoIBGE: string (nullable = true)\n",
            " |    |    |-- nomeIBGE: string (nullable = true)\n",
            " |    |    |-- pais: string (nullable = true)\n",
            " |    |    |-- uf: struct (nullable = true)\n",
            " |    |    |    |-- nome: string (nullable = true)\n",
            " |    |    |    |-- sigla: string (nullable = true)\n",
            " |    |-- naturezaJuridica: struct (nullable = true)\n",
            " |    |    |-- codigo: string (nullable = true)\n",
            " |    |    |-- codigoTipo: string (nullable = true)\n",
            " |    |    |-- descricao: string (nullable = true)\n",
            " |    |    |-- descricaoTipo: string (nullable = true)\n",
            " |    |-- nome: string (nullable = true)\n",
            " |    |-- nomeBairro: string (nullable = true)\n",
            " |    |-- nomeFantasiaReceita: string (nullable = true)\n",
            " |    |-- numeroCEP: string (nullable = true)\n",
            " |    |-- numeroEndereco: string (nullable = true)\n",
            " |    |-- numeroInscricaoSocial: string (nullable = true)\n",
            " |    |-- numeroTelefone: string (nullable = true)\n",
            " |    |-- razaoSocialReceita: string (nullable = true)\n",
            " |    |-- tipoCodigo: string (nullable = true)\n",
            " |    |-- tipoPessoa: string (nullable = true)\n",
            " |-- id: long (nullable = true)\n",
            " |-- mesExtrato: string (nullable = true)\n",
            " |-- portador: struct (nullable = true)\n",
            " |    |-- codigoFormatado: string (nullable = true)\n",
            " |    |-- nome: string (nullable = true)\n",
            " |-- tipoCartao: struct (nullable = true)\n",
            " |    |-- codigo: string (nullable = true)\n",
            " |    |-- descricao: string (nullable = true)\n",
            " |    |-- id: long (nullable = true)\n",
            " |-- unidadeGestora: struct (nullable = true)\n",
            " |    |-- codigo: string (nullable = true)\n",
            " |    |-- nome: string (nullable = true)\n",
            " |    |-- orgaoVinculado: struct (nullable = true)\n",
            " |    |    |-- cnpj: string (nullable = true)\n",
            " |    |    |-- codigoSIAFI: string (nullable = true)\n",
            " |    |    |-- descricaoPoder: string (nullable = true)\n",
            " |    |    |-- nome: string (nullable = true)\n",
            " |    |    |-- orgaoMaximo: struct (nullable = true)\n",
            " |    |    |    |-- codigo: string (nullable = true)\n",
            " |    |    |    |-- nome: string (nullable = true)\n",
            " |    |    |    |-- sigla: string (nullable = true)\n",
            " |    |    |-- sigla: string (nullable = true)\n",
            " |-- valorTransacao: string (nullable = true)\n",
            "\n",
            "+-------------+--------------------+---------+----------+--------------------+--------------------+--------------------+--------------+\n",
            "|dataTransacao|     estabelecimento|       id|mesExtrato|            portador|          tipoCartao|      unidadeGestora|valorTransacao|\n",
            "+-------------+--------------------+---------+----------+--------------------+--------------------+--------------------+--------------+\n",
            "|   19/08/2020|[[Comércio vareji...|202507564|   09/2020|[***.030.245-**, ...|[1, Cartão de Pag...|[170080, DELEGACI...|        260,00|\n",
            "|   06/07/2020|[[Atividades de s...|202507565|   08/2020|[***.552.716-**, ...|[1, Cartão de Pag...|[155903, EBSERH H...|      1.400,00|\n",
            "|   16/07/2020|[[Sem informação,...|202507567|   08/2020|[***.561.575-**, ...|[1, Cartão de Pag...|[160494, 21.DEPOS...|      1.242,00|\n",
            "|   20/08/2020|[[Sem informação,...|202507568|   09/2020|[***.431.382-**, ...|[1, Cartão de Pag...|[114602, UNIDADE ...|        180,00|\n",
            "|   20/08/2020|[[Sem informação,...|202507569|   09/2020|[***.431.382-**, ...|[1, Cartão de Pag...|[114602, UNIDADE ...|         40,00|\n",
            "|   22/07/2020|[[Atividades auxi...|202507571|   08/2020|[***.164.027-**, ...|[1, Cartão de Pag...|[254447, INST NAC...|         70,00|\n",
            "|   13/07/2020|[[Comércio vareji...|202507573|   08/2020|[***.944.902-**, ...|[1, Cartão de Pag...|[130083, SUPERINT...|         87,01|\n",
            "|   30/06/2020|[[Sem informação,...|202507577|   08/2020|[***.979.608-**, ...|[1, Cartão de Pag...|[130102, LABORATO...|        140,00|\n",
            "|   27/07/2020|[[Sem informação,...|202507578|   08/2020|[***.574.693-**, ...|[1, Cartão de Pag...|[160421, 9 BATALH...|        120,00|\n",
            "|   01/07/2020|[[Comércio vareji...|202507579|   08/2020|[***.089.045-**, ...|[1, Cartão de Pag...|[154617, INST. FE...|        499,00|\n",
            "|   31/07/2020|[[Impressão de ma...|202507592|   09/2020|[***.443.137-**, ...|[1, Cartão de Pag...|[155012, EBSERH H...|        614,40|\n",
            "|   02/07/2020|[[Comércio vareji...|202507593|   08/2020|[***.225.587-**, ...|[1, Cartão de Pag...|[254462, COORDENA...|        113,20|\n",
            "|   19/08/2020|[[Sem informação,...|202507598|   09/2020|[***.496.978-**, ...|[1, Cartão de Pag...|[113202, COMISSAO...|        120,00|\n",
            "|   01/07/2020|[[Comércio vareji...|202507600|   08/2020|[***.297.537-**, ...|[1, Cartão de Pag...|[443033, INSTITUT...|        211,40|\n",
            "|   21/08/2020|[[Comércio vareji...|202507602|   09/2020|[***.711.328-**, ...|[1, Cartão de Pag...|[156403, FUFSCAR ...|         50,00|\n",
            "+-------------+--------------------+---------+----------+--------------------+--------------------+--------------------+--------------+\n",
            "\n"
          ],
          "name": "stdout"
        }
      ]
    },
    {
      "cell_type": "markdown",
      "metadata": {
        "id": "4pYGPgg_Wdea"
      },
      "source": [
        "6. Criando uma tabela para analise"
      ]
    },
    {
      "cell_type": "code",
      "metadata": {
        "id": "01LYL8FNHI-o",
        "outputId": "2d91aa67-b2c5-4f6f-ba38-f099ad2afe20",
        "colab": {
          "base_uri": "https://localhost:8080/"
        }
      },
      "source": [
        "dfCompleted = df.selectExpr(\"dataTransacao\",\"estabelecimento.razaoSocialReceita\",\"estabelecimento.nome\",\"estabelecimento.municipio.uf.sigla\",\"estabelecimento.tipoPessoa\", \"portador.nome as nome_do_portador\",\"tipoCartao.descricao\",\"valorTransacao\")\n",
        "dfCompleted.show()"
      ],
      "execution_count": 10,
      "outputs": [
        {
          "output_type": "stream",
          "text": [
            "+-------------+--------------------+--------------------+-----+--------------------+--------------------+--------------------+--------------+\n",
            "|dataTransacao|  razaoSocialReceita|                nome|sigla|          tipoPessoa|    nome_do_portador|           descricao|valorTransacao|\n",
            "+-------------+--------------------+--------------------+-----+--------------------+--------------------+--------------------+--------------+\n",
            "|   19/08/2020|M & P COMERCIO DE...|M & P COMERCIO DE...|   BA|Entidades Empresa...|ANTONIO VILAS BOA...|Cartão de Pagamen...|        260,00|\n",
            "|   06/07/2020|LEMOS LABORATORIO...|LEMOS LABORATORIO...|   MG|Entidades Empresa...|LIVIA FRANCO PERE...|Cartão de Pagamen...|      1.400,00|\n",
            "|   16/07/2020|      SEM INFORMACAO|      SEM INFORMACAO|   -1|      Sem Informação|BRUNO DOS SANTOS ...|Cartão de Pagamen...|      1.242,00|\n",
            "|   20/08/2020|       NAO SE APLICA|       NAO SE APLICA|   -1|      Sem Informação|ASCLE BRITO DE SOUZA|Cartão de Pagamen...|        180,00|\n",
            "|   20/08/2020|       NAO SE APLICA|       NAO SE APLICA|   -1|      Sem Informação|ASCLE BRITO DE SOUZA|Cartão de Pagamen...|         40,00|\n",
            "|   22/07/2020|          STELO S.A.|          STELO S.A.|   SP|Entidades Empresa...|CARLOS AUGUSTO DE...|Cartão de Pagamen...|         70,00|\n",
            "|   13/07/2020|RONSY COMERCIO DE...|RONSY COMERCIO DE...|   RO|Entidades Empresa...|   JEAN ELAINE SILVA|Cartão de Pagamen...|         87,01|\n",
            "|   30/06/2020|       NAO SE APLICA|       NAO SE APLICA|   -1|      Sem Informação| BRUNO ROSARIO BRAGA|Cartão de Pagamen...|        140,00|\n",
            "|   27/07/2020|CASA DAS MANGUEIR...|CASA DAS MANGUEIR...|   RS|Entidades Empresa...|  EDUARDO GOMES LIMA|Cartão de Pagamen...|        120,00|\n",
            "|   01/07/2020|CONLAR MAT ELETRI...|CONLAR MAT ELETRI...|   BA|Entidades Empresa...|SAUL VIANA DE NOVAES|Cartão de Pagamen...|        499,00|\n",
            "|   31/07/2020|HSB IMPRESSAO EIRELI|HSB IMPRESSAO EIRELI|   ES|Entidades Empresa...|JEAN CARLO NUNES ...|Cartão de Pagamen...|        614,40|\n",
            "|   02/07/2020|ENFIMAC ELETRONIC...|ENFIMAC ELETRONIC...|   RJ|Entidades Empresa...|MANOEL LUIZ MARTI...|Cartão de Pagamen...|        113,20|\n",
            "|   19/08/2020|L M I COMERCIO DE...|L M I COMERCIO DE...|   SP|Entidades Empresa...|MARCOS SANTOS DA ...|Cartão de Pagamen...|        120,00|\n",
            "|   01/07/2020|DEPOSITO DE ESQUA...|DEPOSITO DE ESQUA...|   ES|Entidades Empresa...|ELITON DE ALMEIDA...|Cartão de Pagamen...|        211,40|\n",
            "|   21/08/2020| AVENIDA TINTAS LTDA| AVENIDA TINTAS LTDA|   SP|Entidades Empresa...|FABIANO LOSILLA D...|Cartão de Pagamen...|         50,00|\n",
            "+-------------+--------------------+--------------------+-----+--------------------+--------------------+--------------------+--------------+\n",
            "\n"
          ],
          "name": "stdout"
        }
      ]
    },
    {
      "cell_type": "code",
      "metadata": {
        "id": "mIdYJsbOI841"
      },
      "source": [
        "dfCompleted.createOrReplaceTempView(\"dfCompleted\")"
      ],
      "execution_count": 11,
      "outputs": []
    },
    {
      "cell_type": "markdown",
      "metadata": {
        "id": "dnyX_JAKWlHN"
      },
      "source": [
        "7. Criando uma analise de pessoas por estado"
      ]
    },
    {
      "cell_type": "code",
      "metadata": {
        "id": "pdwnNWmYJHZ6",
        "outputId": "6da1c1cf-5622-4c61-d494-1763553b7d58",
        "colab": {
          "base_uri": "https://localhost:8080/"
        }
      },
      "source": [
        "monthTravels = spark.sql(\"select dataTransacao as data, nome_do_portador as nome, sigla as estado, valorTransacao as valor from dfCompleted where sigla like '%MG%' \")\n",
        "monthTravels.show()"
      ],
      "execution_count": 13,
      "outputs": [
        {
          "output_type": "stream",
          "text": [
            "+----------+--------------------+------+--------+\n",
            "|      data|                nome|estado|   valor|\n",
            "+----------+--------------------+------+--------+\n",
            "|06/07/2020|LIVIA FRANCO PERE...|    MG|1.400,00|\n",
            "+----------+--------------------+------+--------+\n",
            "\n"
          ],
          "name": "stdout"
        }
      ]
    }
  ]
}