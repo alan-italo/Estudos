{
 "cells": [
  {
   "cell_type": "code",
   "execution_count": 3,
   "metadata": {},
   "outputs": [],
   "source": [
    "import numpy as np"
   ]
  },
  {
   "cell_type": "code",
   "execution_count": 10,
   "metadata": {},
   "outputs": [
    {
     "data": {
      "text/plain": [
       "array([2, 3, 4])"
      ]
     },
     "execution_count": 10,
     "metadata": {},
     "output_type": "execute_result"
    }
   ],
   "source": [
    "#create array of 6 random values in 0-100 range.\n",
    "np.random.randint(1,100,6)\n",
    "\n",
    "#reshape the array according to row and column vectors.\n",
    "np.random.randint(1,100,6).reshape(3,2)\n",
    "\n",
    "#create an array of uniform distribution (0,1)\n",
    "np.random.rand(4)\n",
    "\n",
    "#create a 3*3 identity matrix\n",
    "np.eye(3)\n",
    "\n",
    "#create a 3*3 identity matrix\n",
    "np.zeros(3)\n",
    "\n",
    "#create a 5*5 2-d array of zeros\n",
    "np.zeros((5,5))\n",
    "\n",
    "#return standard normal distribution vcenter around zreo.\n",
    "np.random.randn(2,2)\n",
    "\n",
    "# uninitialized\n",
    "np.empty((2,3))\n",
    "\n",
    "# from 0 to a number less than 2 with 0.3 intervals\n",
    "np.arange(0, 2, 0.3)\n",
    "\n",
    "# all element are 1\n",
    "np.ones((2,3,4), dtype=np.int16)\n",
    "\n",
    "# complex array\n",
    "np.array([[1,2],[3,4]], dtype=complex) \n",
    "\n",
    "# two-dimensional array\n",
    "np.array([(1.5,2,3),(4,5,6)])\n",
    "\n",
    "# one-dimensional array\n",
    "np.array([2,3,4])"
   ]
  },
  {
   "cell_type": "code",
   "execution_count": 11,
   "metadata": {},
   "outputs": [
    {
     "data": {
      "text/plain": [
       "1"
      ]
     },
     "execution_count": 11,
     "metadata": {},
     "output_type": "execute_result"
    }
   ],
   "source": [
    "A = np.array([[1,1],[0,1]])\n",
    "B = np.array([[2,0],[3,4]])\n",
    "A+B              #addition of two array\n",
    "np.add(A,B)      #addition of two array\n",
    "A * B            # elementwise product\n",
    "A @ B            # matrix product\n",
    "A.dot(B)         # another matrix product\n",
    "B.T              #Transpose of B array\n",
    "A.flatten()      #form 1-d array\n",
    "B < 3            #Boolean of Matrix B. True for elements less than 3\n",
    "A.sum()          # sum of all elements of A\n",
    "A.sum(axis=0)    # sum of each column\n",
    "A.sum(axis=1)    # sum of each row\n",
    "A.cumsum(axis=1) # cumulative sum along each row\n",
    "A.min()          # min value of all elements\n",
    "A.max()          # max value of all elements\n",
    "np.exp(B)        # exponential\n",
    "np.sqrt(B)       # squre root\n",
    "A.argmin()       #position of min value of elements \n",
    "A.argmax()       #position of max value of elements\n",
    "A[1,1]           #member of a array in (1,1) position"
   ]
  },
  {
   "cell_type": "markdown",
   "metadata": {},
   "source": [
    "Array Slicing"
   ]
  },
  {
   "cell_type": "code",
   "execution_count": 14,
   "metadata": {},
   "outputs": [
    {
     "data": {
      "text/plain": [
       "array([9, 8, 7, 6, 5, 4, 3, 2, 1, 0])"
      ]
     },
     "execution_count": 14,
     "metadata": {},
     "output_type": "execute_result"
    }
   ],
   "source": [
    "x = np.arange(10)\n",
    "x\n",
    "\n",
    "\n",
    "#from start to 4th position\n",
    "x[:5]\n",
    "\n",
    "\n",
    "#from 4th position to end\n",
    "x[4:]\n",
    "\n",
    "\n",
    "#from 4th to 6th position\n",
    "x[4:7]\n",
    "\n",
    "\n",
    "#return elements at even place\n",
    "x[ : : 2]\n",
    "\n",
    "\n",
    "#return elements from first position step by two\n",
    "x[1::2]\n",
    "\n",
    "\n",
    "#reverse the array\n",
    "x[::-1]"
   ]
  }
 ],
 "metadata": {
  "kernelspec": {
   "display_name": "Python 3",
   "language": "python",
   "name": "python3"
  },
  "language_info": {
   "codemirror_mode": {
    "name": "ipython",
    "version": 3
   },
   "file_extension": ".py",
   "mimetype": "text/x-python",
   "name": "python",
   "nbconvert_exporter": "python",
   "pygments_lexer": "ipython3",
   "version": "3.7.4"
  }
 },
 "nbformat": 4,
 "nbformat_minor": 4
}
